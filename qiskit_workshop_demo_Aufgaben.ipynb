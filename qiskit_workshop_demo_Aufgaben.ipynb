{
 "cells": [
  {
   "cell_type": "markdown",
   "id": "fe6eff19",
   "metadata": {},
   "source": [
    "# Data 4 Business 2025 | Quantum Computing Workshop Demo mit Qiskit \n",
    "<img src=\"images/EnBW_Logo_Standard_BlauOrange.png\" alt=\"EnBW Logo\" width=\"220\" />\n",
    "\n",
    "Willkommen! Dieses Notebook führt dich interaktiv durch grundlegende Quantum-Computing-Konzepte:\n",
    "\n",
    "- Bloch-Sphäre & Einzel-Qubit-Rotationen\n",
    "- Messwahrscheinlichkeiten verstehen und beeinflussen\n",
    "- Kontrollierte Gates (CNOT) als Basis für Logik & Vorstufe zu Verschränkung\n",
    "- Mini Half-Adder (1-Bit Addition) mit Qubits\n",
    "\n",
    "Starte so:\n",
    "1. Führe die Import-Zelle aus.\n",
    "2. Nutze die interaktive Bloch-Sphäre (Kapitel 0).\n",
    "3. Arbeite die Aufgaben der Reihe nach durch.\n",
    "\n",
    "Ziel: Intuition für Zustände, Superposition und erste logische Strukturen gewinnen. 🚀\n"
   ]
  },
  {
   "cell_type": "markdown",
   "id": "76810f1e",
   "metadata": {},
   "source": [
    "# Überblick: Wichtige Quantum Gates (Qiskit Basis)\n",
    "\n",
    "Unten findest du eine kompakte Übersicht der wichtigsten elementaren Quanten-Gatter, die wir gleich verwenden oder erweitern können. Ein Qubit-Zustand lässt sich als |ψ⟩ = α|0⟩ + β|1⟩ schreiben (mit |α|²+|β|²=1). Gatter wirken linear (Unitary) auf diesen Vektor.\n",
    "\n",
    "| Gate | Qiskit Befehl | Matrix / Wirkung (kurz) | Intuition |\n",
    "|------|---------------|-------------------------|-----------|\n",
    "| Identity (I) | `qc.id(q)` | [[1,0],[0,1]] | Tut nichts – Platzhalter / Timing |\n",
    "| Pauli-X | `qc.x(q)` | [[0,1],[1,0]] | Bit-Flip: |0⟩ ↔ |1⟩ (klassisches NOT) |\n",
    "| Pauli-Y | `qc.y(q)` | [[0,-i],[i,0]] | Kombination aus Flip + Phase (Rotation um Y-Achse) |\n",
    "| Pauli-Z | `qc.z(q)` | [[1,0],[0,-1]] | Phasenflip: |1⟩ erhält ein − Zeichen |\n",
    "| Hadamard (H) | `qc.h(q)` | (1/√2)[[1,1],[1,-1]] | Erzeugt Superposition: |0⟩→(|0⟩+|1⟩)/√2 |\n",
    "| Phase (S) | `qc.s(q)` | diag(1, i) | Vierteldrehung um Z (π/2), fügt Phase zu |1⟩ hinzu |\n",
    "| S† (Sdg) | `qc.sdg(q)` | diag(1, -i) | Inverse von S |\n",
    "| T | `qc.t(q)` | diag(1, e^{iπ/4}) | Achteldrehung um Z (π/4) |\n",
    "| T† (Tdg) | `qc.tdg(q)` | diag(1, e^{-iπ/4}) | Inverse von T |\n",
    "| RX(θ) | `qc.rx(theta, q)` | Rotation um X | Feine kontrollierte Drehung |\n",
    "| RY(θ) | `qc.ry(theta, q)` | Rotation um Y | Erzeugt kontrollierte Superposition |\n",
    "| RZ(θ) | `qc.rz(theta, q)` | Rotation um Z | Ändert relative Phase |\n",
    "| U(θ,φ,λ) | `qc.u(theta,phi,lmbd,q)` | Allgemeines 1-Qubit-Gate | Bel. Rotation (Euler-Zersetzung) |\n",
    "| CX / CNOT | `qc.cx(c,t)` | Flipt Ziel falls Kontrolle=1 | Erzeugt Verschränkung |\n",
    "| CZ | `qc.cz(c,t)` | Fügt Phase − zu |11⟩ hinzu | Phasenverschränkung |\n",
    "| SWAP | `qc.swap(q1,q2)` | Vertauscht Zustände | Datenumlagerung |\n",
    "| CCX (Toffoli) | `qc.ccx(c1,c2,t)` | Flipt Ziel falls beide Kontrollen=1 | Universell für klassische Logik |\n",
    "| Barrier | `qc.barrier()` | — | Verhindert Compiler-Neuordnung |\n",
    "| Measure | `qc.measure(q,c)` | Kollabiert Zustand → Bit | Liest Ergebnis (nicht unitär) |\n",
    "\n",
    "Weitere nützliche:\n",
    "- `qc.reset(q)` setzt ein Qubit zurück auf |0⟩ (nicht unitär, für Mid-Circuit Measurements nützlich)\n",
    "- `qc.measure_all()` misst alle Qubits bequem.\n",
    "\n",
    "Warum Superposition & Verschränkung? \n",
    "- Superposition (z.B. durch H) verteilt Amplituden über Basiszustände. \n",
    "- Verschränkung (z.B. H + CX) erzeugt Korrelationen, die klassisch nicht erklärt werden können.\n",
    "\n",
    "\n",
    "> Tipp: Wenn du unsicher bist welches Gate du brauchst, schau zuerst hier rein oder nutze `qc.draw('mpl')` um den aktuellen Zustand der Schaltung zu visualisieren.\n"
   ]
  },
  {
   "cell_type": "markdown",
   "id": "95ca7e70",
   "metadata": {},
   "source": [
    "# Binder-Umgebung\n",
    "Dieses Notebook läuft auf Binder. Eine lokale virtuelle Umgebung ist nicht erforderlich."
   ]
  },
  {
   "cell_type": "markdown",
   "id": "94449a3a",
   "metadata": {},
   "source": [
    "# Qiskit Workshop Demo \n",
    "Willkommen zur Qiskit Live-Demo! Imports für alle tests. \n",
    "\n",
    "**Wichtig!** Zu erst diese Zelle ausführen."
   ]
  },
  {
   "cell_type": "code",
   "execution_count": 1,
   "id": "7d9e90ed",
   "metadata": {},
   "outputs": [
    {
     "name": "stdout",
     "output_type": "stream",
     "text": [
      "Qiskit importiert (Basis-Imports + Simulator bereit)\n"
     ]
    }
   ],
   "source": [
    "# Abhängigkeiten sind bereits über requirements.txt installiert\n",
    "# Falls du lokal ohne Installation arbeitest, entferne das Kommentarzeichen vor der nächsten Zeile:\n",
    "# %pip install qiskit qiskit-aer matplotlib pylatexenc\n",
    "import qiskit\n",
    "import qiskit_aer\n",
    "import matplotlib.pyplot as plt\n",
    "from qiskit import QuantumCircuit\n",
    "from qiskit_aer import Aer\n",
    "from qiskit.visualization import plot_histogram  # Für Histogramme weiter unten\n",
    "import math  # Für Winkel / π etc.\n",
    "\n",
    "# Gemeinsamer Simulator (kann in späteren Zellen direkt genutzt werden)\n",
    "backend = Aer.get_backend('qasm_simulator')\n",
    "\n",
    "print(\"Qiskit importiert (Basis-Imports + Simulator bereit)\")"
   ]
  },
  {
   "cell_type": "markdown",
   "id": "40711c17",
   "metadata": {},
   "source": [
    "# Interaktive Blochsphere Demo\n"
   ]
  },
  {
   "cell_type": "code",
   "execution_count": 2,
   "id": "410a4895",
   "metadata": {},
   "outputs": [
    {
     "data": {
      "application/vnd.jupyter.widget-view+json": {
       "model_id": "63cc9e48443343f0ab2755661c89dd1a",
       "version_major": 2,
       "version_minor": 0
      },
      "text/plain": [
       "interactive(children=(ToggleButtons(description='Gate:', options=('I', 'X', 'Y', 'Z', 'H'), value='I'), Output…"
      ]
     },
     "metadata": {},
     "output_type": "display_data"
    }
   ],
   "source": [
    "from interactive_plots import interactive_bloch_2\n",
    "\n",
    "\n",
    "display(interactive_bloch_2)"
   ]
  },
  {
   "cell_type": "markdown",
   "id": "3d3fda0d",
   "metadata": {},
   "source": [
    "# Kapitel 0: Interaktive Bloch-Sphäre – Qubit Zustand entdecken\n",
    "In diesem Einstiegs-Kapitel kannst du mit einem einzelnen Qubit spielen und sehen, wie sich Rotationen auf der Bloch-Sphäre auswirken.\n",
    "\n",
    "**Ziel:**\n",
    "- Verstehen: Ein Qubit-Zustand entspricht einem Punkt auf der Oberfläche der Bloch-Kugel.\n",
    "- Rotationen um X / Y / Z verschieben diesen Punkt.\n",
    "- Messwahrscheinlichkeit für 0/1 hängt von der Projektion auf die Z-Achse ab.\n"
   ]
  },
  {
   "cell_type": "markdown",
   "id": "acc7ed97",
   "metadata": {},
   "source": [
    "## Aufgabe: Qubit gezielt manipulieren – Bloch-Sphäre\n",
    "\n",
    "Nutze die interaktive Bloch-Sphäre in der nächsten Zelle, um das Qubit gezielt so zu drehen, dass du beim Messen möglichst sicher eine 0 oder eine 1 erhältst.\n",
    "\n",
    "**Deine Aufgabe:**\n",
    "1. Stelle die Regler so ein, dass die Messwahrscheinlichkeit für **0** möglichst nahe bei 100% liegt.\n",
    "\n",
    "2. Stelle die Regler so ein, dass die Messwahrscheinlichkeit für **1** möglichst nahe bei 100% liegt. \n",
    "\n",
    "3. Probiere auch Zwischenwerte aus (z.B. 50%/50%) und beobachte, wie sich die Histogramme und die Position auf der Bloch-Sphäre verändern.\n",
    "\n",
    "> Tipp: Die X-Drehung (Rx) bringt das Qubit von Nordpol (|0⟩) zum Südpol (|1⟩). Die Y-Drehung (Ry) mischt die Wahrscheinlichkeiten. Die Z-Phase beeinflusst die Messung erst nach Basiswechsel.\n",
    "\n",
    "**Bonus:**\n",
    "- Kannst du mit einer Kombination der Regler einen Zustand erzeugen, der bei Messung immer 1 ergibt, aber eine andere Phase hat als der Standard-|1⟩-Zustand?\n"
   ]
  },
  {
   "cell_type": "code",
   "execution_count": 3,
   "id": "29ab46f9",
   "metadata": {},
   "outputs": [
    {
     "data": {
      "application/vnd.jupyter.widget-view+json": {
       "model_id": "2fdb1804d9eb4c2a9d1012344c7e88d6",
       "version_major": 2,
       "version_minor": 0
      },
      "text/plain": [
       "VBox(children=(Output(), HBox(children=(FloatSlider(value=0.0, description='X (°)', max=360.0, step=1.0), Floa…"
      ]
     },
     "metadata": {},
     "output_type": "display_data"
    },
    {
     "data": {
      "application/vnd.jupyter.widget-view+json": {
       "model_id": "df8be6edc1b54cb39b85410ac6b412b1",
       "version_major": 2,
       "version_minor": 0
      },
      "text/plain": [
       "Output()"
      ]
     },
     "metadata": {},
     "output_type": "display_data"
    }
   ],
   "source": [
    "# Interaktive Bloch-Sphäre (optimiert)\n",
    "# Jetzt mit Eingabe in Grad (°) für Rx, Ry, Rz – intern automatische Umrechnung in Radiant\n",
    "\n",
    "from ipywidgets import FloatSlider, IntSlider, ToggleButtons, Button, HBox, VBox, Output\n",
    "from qiskit.visualization import plot_bloch_vector, plot_histogram\n",
    "import numpy as np, math\n",
    "\n",
    "# Simulatoren (nur falls Modus = 'Simulator')\n",
    "backend_state = Aer.get_backend('statevector_simulator')\n",
    "backend_qasm = backend  # bereits vorhandener qasm_simulator\n",
    "\n",
    "# --- Analytische Bloch-Vektor Berechnung für |0> --Rx--> --Ry--> --Rz-->\n",
    "# Startzustand |0>: Bloch (0,0,1)\n",
    "\n",
    "def bloch_after_rotations(rx_rad, ry_rad, rz_rad):  # erwartet Radiant\n",
    "    x, y, z = 0.0, 0.0, 1.0\n",
    "    if abs(rx_rad) > 1e-12:\n",
    "        y, z = y*math.cos(rx_rad) - z*math.sin(rx_rad), y*math.sin(rx_rad) + z*math.cos(rx_rad)\n",
    "    if abs(ry_rad) > 1e-12:\n",
    "        x, z = x*math.cos(ry_rad) + z*math.sin(ry_rad), -x*math.sin(ry_rad) + z*math.cos(ry_rad)\n",
    "    if abs(rz_rad) > 1e-12:\n",
    "        x, y = x*math.cos(rz_rad) - y*math.sin(rz_rad), x*math.sin(rz_rad) + y*math.cos(rz_rad)\n",
    "    return [x, y, z]\n",
    "\n",
    "# Widgets (jetzt in Grad – verständlicher für Einsteiger)\n",
    "# Bereich 0° .. 360° (volle Umdrehung). Schritt 1° für feine Kontrolle.\n",
    "slider_rx = FloatSlider(min=0, max=360, step=1, value=0, description='X (°)')  # kippt zwischen |0> und |1>\n",
    "slider_ry = FloatSlider(min=0, max=360, step=1, value=0, description='Y (°)')  # mischt Wahrsch.\n",
    "slider_rz = FloatSlider(min=0, max=360, step=1, value=0, description='Z (°)')  # ändert Phase\n",
    "slider_shots = IntSlider(min=50, max=2000, step=50, value=500, description='Messungen')\n",
    "mode = ToggleButtons(options=['Schnell','Simulator'], description='Modus')\n",
    "btn_update = Button(description='Aktualisieren', button_style='primary', tooltip='Manuell neu rendern')\n",
    "output = Output()\n",
    "\n",
    "help_text = Output()\n",
    "with help_text:\n",
    "    print(\"Erklärung der Regler (Grad):\")\n",
    "    print(\"- X (°): Rotation um X-Achse. Bewegt Zustand vom Nordpol zum Südpol (ändert Mess-Wahrsch.).\")\n",
    "    print(\"- Y (°): Rotation um Y-Achse. Ebenfalls Änderung der 0/1-Wahrscheinlichkeiten.\")\n",
    "    print(\"- Z (°): Rotation um Z-Achse. Ändert NUR die Phase (sichtbar nach Basiswechsel, z.B. via H).\")\n",
    "    print(\"- Messungen: Anzahl der Wiederholungen zur statistischen Approximation.\")\n",
    "    print(\"- Modus 'Schnell': Formeln ohne echten Simulator. 'Simulator': echter Statevector + Messung.\")\n",
    "    print(\"Hinweis: 180° ≙ π Radiant, 360° ≙ 2π Radiant.\")\n",
    "\n",
    "rendering = False\n",
    "\n",
    "def _plot_percent_hist(prob_dict, title):\n",
    "    \"\"\"Hilfsfunktion: plot_histogram auf 0..1 skalieren + Prozent-Achse.\"\"\"\n",
    "    from matplotlib.ticker import PercentFormatter\n",
    "    fig_or_ax = plot_histogram(prob_dict, title=title)\n",
    "    # plot_histogram kann Figure oder Axes-like zurückgeben\n",
    "    if hasattr(fig_or_ax, 'axes'):\n",
    "        ax = fig_or_ax.axes[0]\n",
    "    else:\n",
    "        ax = fig_or_ax\n",
    "    ax.set_ylim(0,1.0)\n",
    "    ax.set_ylabel('Prozent')\n",
    "    ax.yaxis.set_major_formatter(PercentFormatter(xmax=1, decimals=0))\n",
    "    try:\n",
    "        from IPython.display import display as _display\n",
    "        if hasattr(fig_or_ax, 'axes'):\n",
    "            _display(fig_or_ax)\n",
    "        else:\n",
    "            _display(ax.figure)\n",
    "    except Exception:\n",
    "        pass\n",
    "\n",
    "def render():\n",
    "    global rendering\n",
    "    if rendering:  # einfache Reentrancy-Guard\n",
    "        return\n",
    "    rendering = True\n",
    "    with output:\n",
    "        output.clear_output(wait=True)\n",
    "        # Werte in Grad einlesen\n",
    "        rx_deg, ry_deg, rz_deg, shots = slider_rx.value, slider_ry.value, slider_rz.value, slider_shots.value\n",
    "        # Umrechnung in Radiant für Berechnung / Qiskit Gates\n",
    "        rx = math.radians(rx_deg)\n",
    "        ry = math.radians(ry_deg)\n",
    "        rz = math.radians(rz_deg)\n",
    "        if mode.value == 'Schnell':\n",
    "            bloch = bloch_after_rotations(rx, ry, rz)\n",
    "            z = bloch[2]\n",
    "            p0 = (1+z)/2\n",
    "            p1 = 1-p0\n",
    "            # Wahrscheinlichkeiten direkt (nicht erst Counts → dann normalisieren)\n",
    "            probs = {'0': p0, '1': p1}\n",
    "            print(f\"Analytisch | Rx={rx_deg:.0f}° Ry={ry_deg:.0f}° Rz={rz_deg:.0f}° -> p(0)≈{p0:.3f} p(1)≈{p1:.3f}\")\n",
    "            qc = QuantumCircuit(1,1)\n",
    "            if rx: qc.rx(rx,0)\n",
    "            if ry: qc.ry(ry,0)\n",
    "            if rz: qc.rz(rz,0)\n",
    "            try:\n",
    "                display(qc.draw('mpl'))\n",
    "            except Exception:\n",
    "                print(qc.draw())\n",
    "            display(plot_bloch_vector(bloch, title='Bloch-Sphäre (analytisch)'))\n",
    "            _plot_percent_hist(probs, title='Messung (approximiert, %)')\n",
    "        else:\n",
    "            qc = QuantumCircuit(1,1)\n",
    "            if rx: qc.rx(rx,0)\n",
    "            if ry: qc.ry(ry,0)\n",
    "            if rz: qc.rz(rz,0)\n",
    "            sv = backend_state.run(qc).result().get_statevector(qc)\n",
    "            a, b = sv[0], sv[1]\n",
    "            x = 2 * np.real(np.conjugate(a) * b)\n",
    "            y = 2 * np.imag(np.conjugate(a) * b)\n",
    "            z = np.abs(a)**2 - np.abs(b)**2\n",
    "            bloch = [x,y,z]\n",
    "            qc_m = qc.copy(); qc_m.measure(0,0)\n",
    "            counts = backend_qasm.run(qc_m, shots=shots).result().get_counts(qc_m)\n",
    "            # In Wahrscheinlichkeiten normalisieren\n",
    "            total = sum(counts.values()) or 1\n",
    "            probs = {k: v/total for k,v in counts.items()}\n",
    "            print(f\"Simulator | Rx={rx_deg:.0f}° Ry={ry_deg:.0f}° Rz={rz_deg:.0f}° -> Prozent: \" + \n",
    "                  \", \".join(f\"{b}={(p*100):.1f}%\" for b,p in sorted(probs.items())))\n",
    "            try:\n",
    "                display(qc.draw('mpl'))\n",
    "            except Exception:\n",
    "                print(qc.draw())\n",
    "            display(plot_bloch_vector(bloch, title='Bloch-Sphäre (Simulator)'))\n",
    "            _plot_percent_hist(probs, title='Messung (Simulator, %)')\n",
    "    rendering = False\n",
    "\n",
    "# Auto-Update bei Slider-Änderungen\n",
    "for w in (slider_rx, slider_ry, slider_rz, slider_shots, mode):\n",
    "    w.observe(lambda change: render() if change['name']=='value' else None, names='value')\n",
    "btn_update.on_click(lambda _: render())\n",
    "\n",
    "controls = VBox([\n",
    "    help_text,\n",
    "    HBox([slider_rx, slider_ry, slider_rz]),\n",
    "    HBox([slider_shots, mode, btn_update])\n",
    "])\n",
    "\n",
    "display(controls)\n",
    "display(output)  # wichtig: Output anzeigen\n",
    "render()  # erste Ausgabe"
   ]
  },
  {
   "cell_type": "markdown",
   "id": "95907b69",
   "metadata": {},
   "source": [
    "## Kapitel 1: Einfacher Einzel-Qubit-Circuit – Wie oft messen wir 0 oder 1?\n",
    "Wir erstellen einen Circuit mit 1 Qubit und 1 klassischem Bit. Ein Hadamard-Gatter `H` bringt das Qubit in eine Superposition, sodass bei vielen Messungen ungefähr gleich oft `0` und `1` auftreten. Wir simulieren direkt und schauen uns die Häufigkeiten an."
   ]
  },
  {
   "cell_type": "markdown",
   "id": "a28d19d9",
   "metadata": {},
   "source": [
    "**Aufgabe:** Füge das Hadamard-Gatter ein und sieh dir den output an. \n",
    "\n",
    "Wenn du das Gatter eingefügt hasst makiere die Zelle und drücke auf das Play/Start Symbol oben in der Leiste um die Zelle wie auch bisher auszführen.\n",
    "\n",
    "> Die Schaltung wird für jedes Circuit dargestellt je nachdem welche Gatter du einfügst. So kannst du mit der Schaltungslösung genau sehen ob du es richtig gemacht hasst. Der restliche code dient hauptsächlich zur Darstellung und Legenden des Outputs und muss nicht geändert werden."
   ]
  },
  {
   "cell_type": "markdown",
   "id": "248de1c1",
   "metadata": {},
   "source": [
    "Schaltungslösung:\n",
    "\n",
    "![Kapitel 1 Schaltung](images/kapitel1_schaltung.png)"
   ]
  },
  {
   "cell_type": "code",
   "execution_count": null,
   "id": "88836a99",
   "metadata": {},
   "outputs": [
    {
     "data": {
      "image/png": "[encoded data removed]",
      "text/plain": [
       "<Figure size 185.453x200.667 with 1 Axes>"
      ]
     },
     "metadata": {},
     "output_type": "display_data"
    },
    {
     "name": "stdout",
     "output_type": "stream",
     "text": [
      "Häufigkeiten (Anzahl der Messungen pro Ergebnis): {'0': 100}\n",
      "Prozent: 0 = 100.0%\n"
     ]
    },
    {
     "data": {
      "image/png": "[encoded data removed]",
      "text/plain": [
       "<Figure size 640x480 with 1 Axes>"
      ]
     },
     "metadata": {},
     "output_type": "display_data"
    }
   ],
   "source": [
    "# Einfaches Beispiel: 1 Qubit, Hadamard, Messung\n",
    "# Ziel: Zeigen, dass ein einzelnes Qubit nach einem Hadamard ungefähr zu 50% als 0 und 50% als 1 gemessen wird.\n",
    "\n",
    "# Anzahl der wiederholungen von dem Circuit.\n",
    "shots = 100\n",
    "\n",
    "#qc_simple ist nur der Name des Circuits und ändert sich je nach Zelle um Konflikte zu vermeiden.\n",
    "# Erzeuge einen Circuit mit 1 Qubit und 1 klassischem Bit. Klassisches Bit wird benutzt um das Ergebnis zu speichern\n",
    "qc_simple = QuantumCircuit(1,1) # Qubit,Bit\n",
    "\n",
    "# Hadamard-Gatter auf Qubit 0: |0> -> (|0> + |1>)/√2 (Superposition)\n",
    "#Unter diesem Kommentar fügst du das Hadamard-Gatte ein. Ist das Qubit in 1 oder 0 position?\n",
    "\n",
    "\n",
    "\n",
    "# Messe Qubit 0 in das klassische Bit 0 (kollabiert Superposition zu 0 oder 1)\n",
    "qc_simple.measure(0,0)\n",
    "\n",
    "# Zeichne die Schaltung (mit 'mpl')\n",
    "try:\n",
    "    display(qc_simple.draw('mpl'))\n",
    "except Exception:\n",
    "    print(qc_simple.draw())\n",
    "\n",
    "# Simuliere die Schaltung: 'qasm_simulator' führt viele Messwiederholungen (shots) aus\n",
    "result = backend.run(qc_simple, shots=shots).result()  # 100 Wiederholungen -> statistische Verteilung\n",
    "\n",
    "# Hole die Zählungen der gemessenen Bitstrings (hier nur '0' oder '1')\n",
    "counts_simple = result.get_counts(qc_simple)\n",
    "print(\"Häufigkeiten (Anzahl der Messungen pro Ergebnis):\", counts_simple)\n",
    "\n",
    "# In Wahrscheinlichkeiten / Prozent umrechnen\n",
    "probs_simple = {k: v/shots for k,v in counts_simple.items()}\n",
    "percent_line = \" , \".join(f\"{bit} = {p*100:.1f}%\" for bit, p in sorted(probs_simple.items(), reverse=True))\n",
    "print(\"Prozent:\", percent_line)\n",
    "\n",
    "from matplotlib.ticker import PercentFormatter\n",
    "fig_or_ax = plot_histogram(probs_simple, title=f\"Hadamard Ergebnis (Prozent) | {percent_line}\")\n",
    "\n",
    "# Achse auf Prozent formatieren\n",
    "if hasattr(fig_or_ax, 'axes'):\n",
    "    ax = fig_or_ax.axes[0]\n",
    "else:\n",
    "    ax = fig_or_ax\n",
    "ax.set_ylim(0,1.0)\n",
    "ax.set_ylabel('Prozent')\n",
    "ax.yaxis.set_major_formatter(PercentFormatter(xmax=1, decimals=0))\n",
    "\n",
    "# Anzeigen\n",
    "try:\n",
    "    from IPython.display import display as _display\n",
    "    if hasattr(fig_or_ax, 'axes'):\n",
    "        _display(fig_or_ax)\n",
    "    else:\n",
    "        _display(ax.figure)\n",
    "except Exception:\n",
    "    pass"
   ]
  },
  {
   "cell_type": "markdown",
   "id": "6fd69dc0",
   "metadata": {},
   "source": [
    "## Kapitel 2: Wie erzwinge oder beeinflusse ich Messergebnisse?\n",
    "Wir schauen uns 2 kleine Varianten an (alles noch 1 Qubit):\n",
    "\n",
    "1. Immer 1 messen: Zustandsvorbereitung durch ein X-Gatter (NOT) vor der Messung.\n",
    "2. Wahrscheinlichkeiten steuern: Rotation `ry(θ)` – verändert Anteil für 0/1 kontinuierlich.\n",
    "\n",
    "\n",
    "> Merke: Nur Amplitudenbeträge (|α|², |β|²) bestimmen Messwahrscheinlichkeiten in der Computational Basis. Reine Phase (global oder passend lokal) kann unsichtbar bleiben, bis wir in eine andere Basis rotieren."
   ]
  },
  {
   "cell_type": "markdown",
   "id": "62f2ec82",
   "metadata": {},
   "source": [
    "### Variante 1: Immer 1 erzwingen mit X-Gate\n",
    "Wir setzen das Qubit per X-Gatter direkt in den Zustand |1>, damit die Messung (fast) immer 1 liefert.\n",
    "\n",
    "Schaltungslösung:\n",
    "\n",
    "![Kapitel 2 Schaltung](images/kpaitel2_schaltung.png)"
   ]
  },
  {
   "cell_type": "markdown",
   "id": "4d220b39",
   "metadata": {},
   "source": [
    "**Aufgabe:** Füge das (NOT) X-Gatter ein und trage in das Quantum Circuit ein Qubit und ein Klassiches Bit ein um das Circuit zu initialisieren.\n",
    "\n",
    "\n",
    "Wenn du das Gatter eingefügt hasst und das Circuit initialisiert wurde makiere die Zelle und drücke aus das Play/Start Symbol oben in der Leiste um die Zelle wie auch bisher auszführen.\n",
    "\n",
    "> Die Schaltung wird für jedes Circuit dargestellt je nachdem welche Gatter du einfügst. So kannst du mit der Schaltungslösung genau sehen ob du es richtig gemacht hasst. Der restliche code dient hauptsächlich zur Darstellung und Legenden des Outputs und muss nicht geändert werden."
   ]
  },
  {
   "cell_type": "code",
   "execution_count": null,
   "id": "193fc553",
   "metadata": {},
   "outputs": [],
   "source": [
    "# Variante 1: Immer 1 messen (X)\n",
    "# Ziel: Zeigen, wie wir das Ergebnis fest auf 1 setzen.\n",
    "\n",
    "shots = 1000  # Anzahl Wiederholungen\n",
    "\n",
    "#qc_one ist nur der Name des Circuits und ändert sich je nach Zelle um Konflikte zu vermeiden.\n",
    "\n",
    "qc_one = QuantumCircuit(,) # Qubit,Bit Bitte hier eintragen.\n",
    "\n",
    "#Unter diesem Kommentar kannst du das X-Gatter einfügen welches aus |0> das |1> macht.\n",
    "          \n",
    "\n",
    "qc_one.measure(0,0)  # Messergebnis ins klassische Bit\n",
    "\n",
    "# Zeichne die Schaltung (mit 'mpl')\n",
    "try:\n",
    "    display(qc_one.draw('mpl'))\n",
    "except Exception:\n",
    "    print(qc_one.draw())\n",
    "\n",
    "counts_one = backend.run(qc_one, shots=shots).result().get_counts(qc_one)\n",
    "print(\"Variante 1 - Immer 1 (Counts):\", counts_one)\n",
    "\n",
    "# In Prozent/Wahrscheinlichkeiten umrechnen\n",
    "probs_one = {k: v/shots for k,v in counts_one.items()}\n",
    "# Prozent-String (sortiere nach Key absteigend, damit '1' zuerst erscheint)\n",
    "percent_line = \" , \".join(f\"{bit} = {p*100:.1f}%\" for bit, p in sorted(probs_one.items(), reverse=True))\n",
    "print(\"Prozent:\", percent_line)\n",
    "\n",
    "from matplotlib.ticker import PercentFormatter\n",
    "fig_or_ax = plot_histogram(probs_one, title=f\"Variante 1: X -> immer 1 | {percent_line}\")\n",
    "\n",
    "# Falls eine Figure zurückkommt, Achse extrahieren\n",
    "if hasattr(fig_or_ax, 'axes'):\n",
    "    ax = fig_or_ax.axes[0]\n",
    "else:\n",
    "    ax = fig_or_ax\n",
    "ax.set_ylim(0, 1.0)\n",
    "ax.set_ylabel('Prozent')\n",
    "ax.yaxis.set_major_formatter(PercentFormatter(xmax=1, decimals=0))\n",
    "\n",
    "# Explizit anzeigen (Figure wurde einer Variable zugewiesen)\n",
    "try:\n",
    "    from IPython.display import display as _display\n",
    "    if hasattr(fig_or_ax, 'axes'):\n",
    "        _display(fig_or_ax)\n",
    "    else:\n",
    "        _display(ax.figure)\n",
    "except Exception:\n",
    "    pass\n",
    "\n",
    "# (Optional) Altes Counts-Histogramm:\n",
    "# plot_histogram(counts_one, title='Variante 1: X -> immer 1 (Counts)')"
   ]
  },
  {
   "cell_type": "markdown",
   "id": "bcfb9b05",
   "metadata": {},
   "source": [
    "### Variante 2: Wahrscheinlichkeiten fein einstellen mit RY(θ)\n",
    "Mit einer Rotation um die Y-Achse stellen wir kontinuierlich ein, wie oft 0 oder 1 fällt.\n",
    "\n",
    "\n",
    "Schaltungslösung:\n",
    "\n",
    "![Kapitel 2 Schaltung (Version 2)](images/kapitel2_schaltungv2.png)"
   ]
  },
  {
   "cell_type": "markdown",
   "id": "c586366f",
   "metadata": {},
   "source": [
    "**Aufgabe:** Füge das RY-Gatter ein und trage in das Quantum Circuit ein Qubit und ein Klassiches Bit ein um das Circuit zu initialisieren. \n",
    "\n",
    "- Theta (θ) in diesem Beispiel beeinflussed den Pfeil aus der Blochsphere je nach dem welcher Winkel eingestellt wird. \n",
    "\n",
    "\n",
    "\n",
    "**BONUS:** Versuche den Winkel Theta (θ) so zu ändern das wir entweder 0 oder 1 als Ergebniss bekommen.\n",
    "\n",
    "\n",
    "\n",
    "- Wenn du das Gatter eingefügt hasst und das Circuit initialisiert wurde makiere die Zelle und drücke aus das Play/Start Symbol oben in der Leiste um die Zelle wie auch bisher auszführen.\n",
    "\n",
    ">Die Schaltung wird für jedes Circuit dargestellt je nachdem welche Gatter du einfügst. So kannst du mit der Schaltungslösung genau sehen ob du es richtig gemacht hasst. Der restliche code dient hauptsächlich zur Darstellung und Legenden des Outputs und muss nicht geändert werden.\n",
    "- Wenn du hilfe brauchst um das richtige gatter mit den jeweiligen parametern zu finden scrolle hoch und schau dir die Gatter Tabelle an für RY"
   ]
  },
  {
   "cell_type": "code",
   "execution_count": null,
   "id": "7d967524",
   "metadata": {},
   "outputs": [
    {
     "data": {
      "image/png": "[encoded data removed]",
      "text/plain": [
       "<Figure size 269.064x200.667 with 1 Axes>"
      ]
     },
     "metadata": {},
     "output_type": "display_data"
    },
    {
     "name": "stdout",
     "output_type": "stream",
     "text": [
      "Variante 2 - RY(1.05): {'0': 358, '1': 142}\n",
      "Prozent: 1 = 28.4% , 0 = 71.6%\n"
     ]
    },
    {
     "data": {
      "image/png": "[encoded data removed]",
      "text/plain": [
       "<Figure size 640x480 with 1 Axes>"
      ]
     },
     "metadata": {},
     "output_type": "display_data"
    }
   ],
   "source": [
    "# Variante 2: Wahrscheinlichkeiten steuern mit RY(θ)\n",
    "# Ziel: θ bestimmt wie oft 1 herauskommt (glatte Einstellmöglichkeit)\n",
    "\n",
    "shots = 500\n",
    "θ = 60 * math.pi / 180    # 60 Grad direkt als Winkel, Umrechnung in Radiant\n",
    "\n",
    "#qc_bias ist nur der Name des Circuits und ändert sich je nach Zelle um Konflikte zu vermeiden.\n",
    "\n",
    "qc_bias =  # QuantumCircuit wird hier initialisiert, Qubit,Bit Bitte hier eintragen.\n",
    "\n",
    "#Unter diesem Kommentar kannst du das RY-Gatter einfügen welches aus |0> eine Mischung aus |0> und |1> macht.\n",
    "\n",
    "\n",
    "\n",
    "qc_bias.measure(0,0) #Messung \n",
    "\n",
    "# Zeichne die Schaltung (mit 'mpl')\n",
    "try:\n",
    "    display(qc_bias.draw('mpl'))\n",
    "except Exception:\n",
    "    print(qc_bias.draw())\n",
    "\n",
    "counts_bias = backend.run(qc_bias, shots=shots).result().get_counts(qc_bias)\n",
    "print(f\"Variante 2 - RY({θ:.2f}):\", counts_bias)\n",
    "\n",
    "# In Prozent / Wahrscheinlichkeiten\n",
    "probs_bias = {k: v/shots for k,v in counts_bias.items()}\n",
    "percent_line = \" , \".join(f\"{bit} = {p*100:.1f}%\" for bit, p in sorted(probs_bias.items(), reverse=True))\n",
    "print(\"Prozent:\", percent_line)\n",
    "\n",
    "from matplotlib.ticker import PercentFormatter\n",
    "fig_or_ax = plot_histogram(probs_bias, title=f\"Variante 2: RY({θ:.2f}) | {percent_line}\")\n",
    "\n",
    "# Figure/Axes handhaben wie zuvor\n",
    "if hasattr(fig_or_ax, 'axes'):\n",
    "    ax = fig_or_ax.axes[0]\n",
    "else:\n",
    "    ax = fig_or_ax\n",
    "ax.set_ylim(0,1.0)\n",
    "ax.set_ylabel('Prozent')\n",
    "ax.yaxis.set_major_formatter(PercentFormatter(xmax=1, decimals=0))\n",
    "\n",
    "try:\n",
    "    from IPython.display import display as _display\n",
    "    if hasattr(fig_or_ax, 'axes'):\n",
    "        _display(fig_or_ax)\n",
    "    else:\n",
    "        _display(ax.figure)\n",
    "except Exception:\n",
    "    pass"
   ]
  },
  {
   "cell_type": "markdown",
   "id": "472fc0c9",
   "metadata": {},
   "source": [
    "## Kapitel 3: CNOT (CX) einfach erklärt 2 QUBITS\n",
    "Das CNOT (CX) hat zwei Qubits:\n",
    "- Oben: Kontrolle (\"Control\").\n",
    "- Unten: Ziel (\"Target\").\n",
    "\n",
    "**Regel:** Ist die Kontrolle = 1, dann mache ein X (Flip) auf dem Ziel. Ist die Kontrolle = 0, tue nichts.\n",
    "\n",
    "Man kann es wie einen \"bedingten Lichtschalter\" sehen: Control = 1 schaltet den Zustand des Ziel-Qubits um.\n",
    "\n",
    "\n",
    "\n",
    ">**Aufgabe:** Fülle die ?? aus um die Wahrheitstablle zu vervollständigen. Wenn nicht lass die untere Zelle laufen und schaue dir die Ergebnisse an die wir in den 4 Varianten bekommen.\n",
    "\n",
    "### Wahrheitstabelle\n",
    "| Control | Target (vorher) | Target (nachher) | Ausgabe (Control Target) | Was passiert? |\n",
    "|---------|-----------------|------------------|---------------------------|---------------|\n",
    "| 0       | 0               | 0                | ??                        | Nichts        |\n",
    "| 0       | 1               | ?                | ??                        | Nichts        |\n",
    "| 1       | 0               | ?                | ??                        | Flip          |\n",
    "| 1       | 1               | 0                | ??                        | Flip          |\n",
    "\n",
    "Kurz: Nur in den unteren beiden Zeilen (Control=1) wechselt das Ziel.\n",
    "\n",
    "### Warum ist das wichtig?\n",
    "- So bauen wir Verschränkung: z.B. erst Hadamard auf das Control (Superposition), dann CX → erzeugt Bell-Zustände.\n",
    "- So können wir Logik (IF) in Quanten-Schaltungen nachbilden.\n",
    "\n",
    "Gleich unten erstellen wir jede der vier Kombinationen und prüfen, was rauskommt.\n"
   ]
  },
  {
   "cell_type": "code",
   "execution_count": 7,
   "id": "f0e6bb40",
   "metadata": {},
   "outputs": [
    {
     "name": "stdout",
     "output_type": "stream",
     "text": [
      "\n",
      "Circuit für Eingang 00:\n"
     ]
    },
    {
     "data": {
      "image/png": "[encoded data removed]",
      "text/plain": [
       "<Figure size 370.906x284.278 with 1 Axes>"
      ]
     },
     "metadata": {},
     "output_type": "display_data"
    },
    {
     "name": "stdout",
     "output_type": "stream",
     "text": [
      "Eingang 00 -> Ausgabe Counts: {'00': 256}\n",
      "\n",
      "Circuit für Eingang 01:\n"
     ]
    },
    {
     "data": {
      "image/png": "[encoded data removed]",
      "text/plain": [
       "<Figure size 454.517x284.278 with 1 Axes>"
      ]
     },
     "metadata": {},
     "output_type": "display_data"
    },
    {
     "name": "stdout",
     "output_type": "stream",
     "text": [
      "Eingang 01 -> Ausgabe Counts: {'10': 256}\n",
      "\n",
      "Circuit für Eingang 10:\n"
     ]
    },
    {
     "data": {
      "image/png": "[encoded data removed]",
      "text/plain": [
       "<Figure size 454.517x284.278 with 1 Axes>"
      ]
     },
     "metadata": {},
     "output_type": "display_data"
    },
    {
     "name": "stdout",
     "output_type": "stream",
     "text": [
      "Eingang 10 -> Ausgabe Counts: {'11': 256}\n",
      "\n",
      "Circuit für Eingang 11:\n"
     ]
    },
    {
     "data": {
      "image/png": "[encoded data removed]",
      "text/plain": [
       "<Figure size 454.517x284.278 with 1 Axes>"
      ]
     },
     "metadata": {},
     "output_type": "display_data"
    },
    {
     "name": "stdout",
     "output_type": "stream",
     "text": [
      "Eingang 11 -> Ausgabe Counts: {'01': 256}\n",
      "\n",
      "Zusammenfassung (dominierender Output):\n",
      "00 -> 00\n",
      "01 -> 10\n",
      "10 -> 11\n",
      "11 -> 01\n"
     ]
    }
   ],
   "source": [
    "# CNOT Wahrheitstabelle per Simulation\n",
    "# Wir erzeugen die vier Basiszustände |00>, |01>, |10>, |11>, wenden CX an und messen.\n",
    "\n",
    "\n",
    "shots = 256\n",
    "kombinationen = {\n",
    "    \"00\": [],\n",
    "    \"01\": [(1, 'x')],        # Ziel (unten) auf 1 setzen\n",
    "    \"10\": [(0, 'x')],        # Control (oben) auf 1 setzen\n",
    "    \"11\": [(0, 'x'), (1, 'x')]  # Beide auf 1 setzen\n",
    "}\n",
    "\n",
    "results = {}\n",
    "\n",
    "for name, ops in kombinationen.items():\n",
    "    qc = QuantumCircuit(2,2)\n",
    "    # Vorbereitung\n",
    "    for qubit, art in ops:\n",
    "        if art == 'x':\n",
    "            qc.x(qubit)\n",
    "    # CX: Kontrolle = Qubit 0, Ziel = Qubit 1\n",
    "    qc.cx(0,1)\n",
    "    qc.measure([0,1],[0,1])\n",
    "\n",
    "    # Circuit zeichnen (so sieht das Gatter in dieser Eingabe aus)\n",
    "    print(f\"\\nCircuit für Eingang {name}:\")\n",
    "    try:\n",
    "        display(qc.draw('mpl'))\n",
    "    except Exception:\n",
    "        print(qc.draw())\n",
    "\n",
    "    counts = backend.run(qc, shots=shots).result().get_counts(qc)\n",
    "    results[name] = counts\n",
    "    print(f\"Eingang {name} -> Ausgabe Counts: {counts}\")\n",
    "\n",
    "# Zusammenfassung in einer kleinen Tabelle drucken\n",
    "print(\"\\nZusammenfassung (dominierender Output):\")\n",
    "for eingang, counts in results.items():\n",
    "    # größten Key finden\n",
    "    dominant = max(counts.items(), key=lambda kv: kv[1])[0]\n",
    "    print(f\"{eingang} -> {dominant}\")"
   ]
  },
  {
   "cell_type": "markdown",
   "id": "236338ba",
   "metadata": {},
   "source": [
    "## Mini Quanten-\"Taschenrechner\": 1-Bit + 1-Bit\n",
    "# Fortgeschritten erstelle das Quantum Circuit\n",
    "\n",
    "Wir bauen eine ganz einfache Addition: zwei klassische Bits (0 oder 1) werden addiert. Ergebnis besteht aus:\n",
    "- SUM (Ergebnisstelle)\n",
    "- CARRY (Übertrag, nur 1 falls 1+1 passiert)\n",
    "\n",
    "Klassische Wahrheitstabelle:\n",
    "```\n",
    "a b | SUM CARRY\n",
    "0 0 |  0    0\n",
    "0 1 |  1    0\n",
    "1 0 |  1    0\n",
    "1 1 |  0    1   (weil 1+1 = 2 = (10)_2)\n",
    "```\n",
    "\n",
    "### Idee mit Qubits\n",
    "Wir verwenden 3 Qubits:\n",
    "- q0 = a (Eingabe)\n",
    "- q1 = b (Eingabe / wird später zur SUM)\n",
    "- q2 = 0 (Start bei |0>, speichert CARRY)\n",
    "\n",
    "Schritte:\n",
    "1. Falls a=1 oder b=1: setze q0 oder q1 mit `x`.\n",
    "2. `ccx(q0,q1,q2)` (Toffoli) schreibt a AND b in q2 → das ist unser CARRY.\n",
    "3. `cx(q0,q1)` macht aus q1 jetzt a XOR b → das ist unsere SUM.\n",
    "4. Messen: q1 = SUM, q2 = CARRY.\n",
    "\n",
    "Fertig – das ist schon ein 1-Bit-Addierer.\n",
    "\n",
    "### Merken\n",
    "- CNOT = XOR (wenn du ein Ziel-Bit toggeln willst, falls Control=1).\n",
    "- Toffoli = UND (speichert nur 1 wenn beide Controls 1 waren).\n"
   ]
  },
  {
   "cell_type": "markdown",
   "id": "62f1419f",
   "metadata": {},
   "source": [
    "### Interaktive Version: 1-Bit-Addierer mit Buttons\n",
    "Spiele mit den Eingaben und sieh dir sofort Circuit + Mess-Ergebnis an.\n",
    "\n",
    "Bedienelemente:\n",
    "- a, b: Wähle 0 oder 1.\n",
    "- Shots: Anzahl der Wiederholungen (mehr = stabileres Histogramm).\n",
    "- Addieren: Baut den Quantum Circuit (Toffoli + CNOT), misst und zeigt SUM & CARRY.\n",
    "- Reset: Löscht die Ausgabe.\n",
    "\n",
    "Probiere alle vier Kombinationen (00, 01, 10, 11) und vergleiche mit der Wahrheitstabelle. 💡"
   ]
  },
  {
   "cell_type": "code",
   "execution_count": null,
   "id": "00bb636f",
   "metadata": {},
   "outputs": [],
   "source": [
    "# Interaktiver Half-Adder (Buttons)\n",
    "from ipywidgets import ToggleButtons, IntSlider, Button, HBox, VBox, Output\n",
    "from qiskit import QuantumCircuit\n",
    "from qiskit_aer import Aer\n",
    "from qiskit.visualization import plot_histogram\n",
    "\n",
    "backend = Aer.get_backend('qasm_simulator')\n",
    "\n",
    "# Widgets\n",
    "a_in = ToggleButtons(options=[0,1], description='a:')\n",
    "b_in = ToggleButtons(options=[0,1], description='b:')\n",
    "shots_slider = IntSlider(value=256, min=64, max=4096, step=64, description='Shots:')\n",
    "run_btn = Button(description='Addieren', button_style='success')\n",
    "reset_btn = Button(description='Reset', button_style='warning')\n",
    "\n",
    "out = Output()\n",
    "\n",
    "\n",
    "def build_half_adder(a:int, b:int):\n",
    "    qc = QuantumCircuit(3,2)\n",
    "    if a: qc.x(0)\n",
    "    if b: qc.x(1)\n",
    "    qc.ccx(0,1,2)  # CARRY\n",
    "    qc.cx(0,1)     # SUM in q1\n",
    "    qc.measure(1,0)  # SUM -> c0\n",
    "    qc.measure(2,1)  # CARRY -> c1\n",
    "    return qc\n",
    "\n",
    "\n",
    "def run(_):\n",
    "    with out:\n",
    "        out.clear_output(wait=True)\n",
    "        a = a_in.value; b = b_in.value; shots = shots_slider.value\n",
    "        qc = build_half_adder(a,b)\n",
    "        try:\n",
    "            display(qc.draw('mpl'))\n",
    "        except Exception:\n",
    "            print(qc.draw())\n",
    "        counts = backend.run(qc, shots=shots).result().get_counts(qc)\n",
    "        # Dominantes Ergebnis extrahieren\n",
    "        dominant = max(counts.items(), key=lambda kv: kv[1])[0]\n",
    "        # Bitstring = 'sc' (s=SUM in cbit0 rechts, c=CARRY in cbit1 links)\n",
    "        sum_bit = dominant[1]\n",
    "        carry_bit = dominant[0]\n",
    "        value = int(carry_bit)*2 + int(sum_bit)  # Dezimalwert (0,1,2)\n",
    "        print(f\"Eingabe: a={a} b={b}\")\n",
    "        print(f\"Bits: CARRY={carry_bit} SUM={sum_bit}  -> Ergebnis (dezimal) {a} + {b} = {value}\")\n",
    "        print(f\"Binär (CARRY SUM) = {carry_bit}{sum_bit}  (entspricht der Zahl {value})\")\n",
    "        # Prozentanzeige vorbereiten\n",
    "        total = sum(counts.values()) or 1\n",
    "        probs = {k: v/total for k,v in counts.items()}\n",
    "        perc = {k: f\"{(v*100):5.1f}%\" for k,v in probs.items()}\n",
    "        print(\"Wahrscheinlichkeiten (%):\", {k: perc[k] for k in sorted(probs.keys(), reverse=True)})\n",
    "        from matplotlib.ticker import PercentFormatter\n",
    "        fig_or_ax = plot_histogram(probs, title=f'Half-Adder a={a}+b={b} -> {value} (Prozent)')\n",
    "        # Prozent-Achse formatieren\n",
    "        if hasattr(fig_or_ax, 'axes'):\n",
    "            ax = fig_or_ax.axes[0]\n",
    "        else:\n",
    "            ax = fig_or_ax\n",
    "        ax.set_ylim(0,1.0)\n",
    "        ax.set_ylabel('Prozent')\n",
    "        ax.yaxis.set_major_formatter(PercentFormatter(xmax=1, decimals=0))\n",
    "        try:\n",
    "            from IPython.display import display as _display\n",
    "            if hasattr(fig_or_ax, 'axes'):\n",
    "                _display(fig_or_ax)\n",
    "            else:\n",
    "                _display(ax.figure)\n",
    "        except Exception:\n",
    "            pass\n",
    "\n",
    "\n",
    "def reset(_):\n",
    "    with out:\n",
    "        out.clear_output()\n",
    "\n",
    "run_btn.on_click(run)\n",
    "reset_btn.on_click(reset)\n",
    "\n",
    "ui = VBox([\n",
    "    HBox([a_in, b_in, shots_slider]),\n",
    "    HBox([run_btn, reset_btn]),\n",
    "    out\n",
    "])\n",
    "\n",
    "display(ui)"
   ]
  }
 ],
 "metadata": {
  "kernelspec": {
   "display_name": "Python 3",
   "language": "python",
   "name": "python3"
  },
  "language_info": {
   "codemirror_mode": {
    "name": "ipython",
    "version": 3
   },
   "file_extension": ".py",
   "mimetype": "text/x-python",
   "name": "python",
   "nbconvert_exporter": "python",
   "pygments_lexer": "ipython3",
   "version": "3.12.10"
  }
 },
 "nbformat": 4,
 "nbformat_minor": 5
}
