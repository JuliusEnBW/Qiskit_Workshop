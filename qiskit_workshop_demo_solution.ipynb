{
 "cells": [
  {
   "cell_type": "markdown",
   "id": "c8416f29",
   "metadata": {},
   "source": [
    "# Binder Environment\n",
    "This notebook runs on Binder. Skip any local virtual environment setup."
   ]
  },
  {
   "cell_type": "markdown",
   "id": "8faf000c",
   "metadata": {},
   "source": [
    "# Qiskit Workshop Demo – Solution\n",
    "Welcome to the Qiskit live demo! This notebook shows the solutions for the basic quantum programming steps with Qiskit."
   ]
  },
  {
   "cell_type": "code",
   "execution_count": null,
   "id": "c2a8ffa0",
   "metadata": {},
   "outputs": [],
   "source": [
    "# Dependencies already installed via requirements.txt\n",
    "# If running locally without installing, uncomment next line:\n",
    "# %pip install qiskit qiskit-aer matplotlib pylatexenc\n",
    "import qiskit\n",
    "import qiskit_aer\n",
    "import matplotlib.pyplot as plt\n",
    "from qiskit import QuantumCircuit\n",
    "from qiskit_aer import Aer\n",
    "print(\"Qiskit imported (Binder environment)\")"
   ]
  },
  {
   "cell_type": "markdown",
   "id": "25ab7e14",
   "metadata": {},
   "source": [
    "## Step 1: Create a Quantum Circuit\n",
    "Fill in the blanks to create a quantum circuit with 2 qubits and 2 classical bits."
   ]
  },
  {
   "cell_type": "code",
   "execution_count": null,
   "id": "bc0798a9",
   "metadata": {},
   "outputs": [],
   "source": [
    "# Solution: Create a simple 2-qubit, 2-classical bit circuit\n",
    "qc = QuantumCircuit(2, 2)\n",
    "qc.h(0)  # Hadamard gate on qubit 0\n",
    "qc.cx(0, 1)  # CNOT gate with control qubit 0 and target qubit 1\n",
    "qc.measure([0, 1], [0, 1])\n",
    "print(\"Circuit created\")"
   ]
  },
  {
   "cell_type": "markdown",
   "id": "0982bb72",
   "metadata": {},
   "source": [
    "## Step 2: Visualize the Circuit\n",
    "Display the quantum circuit you just created."
   ]
  },
  {
   "cell_type": "code",
   "execution_count": null,
   "id": "0427c296",
   "metadata": {},
   "outputs": [],
   "source": [
    "# Solution: Visualize\n",
    "qc.draw('mpl')"
   ]
  },
  {
   "cell_type": "markdown",
   "id": "d6afa55e",
   "metadata": {},
   "source": [
    "## Step 3: Simulate the Circuit\n",
    "Run the circuit on a simulator and print the results."
   ]
  },
  {
   "cell_type": "code",
   "execution_count": null,
   "id": "e424221b",
   "metadata": {},
   "outputs": [],
   "source": [
    "# Solution: Simulate\n",
    "backend = Aer.get_backend('qasm_simulator')\n",
    "job = backend.run(qc, shots=1000)\n",
    "result = job.result()\n",
    "counts = result.get_counts(qc)\n",
    "print('Measurement results:', counts)"
   ]
  },
  {
   "cell_type": "markdown",
   "id": "3db8a937",
   "metadata": {},
   "source": [
    "## Step 4: Visualize the Results\n",
    "Plot a histogram of the results."
   ]
  },
  {
   "cell_type": "code",
   "execution_count": null,
   "id": "0effcc53",
   "metadata": {},
   "outputs": [],
   "source": [
    "# Solution: Plot histogram\n",
    "from qiskit.visualization import plot_histogram\n",
    "plot_histogram(counts)"
   ]
  }
 ],
 "metadata": {
  "kernelspec": {
   "display_name": "Python 3",
   "language": "python",
   "name": "python3"
  },
  "language_info": {
   "codemirror_mode": {
    "name": "ipython",
    "version": 3
   },
   "file_extension": ".py",
   "mimetype": "text/x-python",
   "name": "python",
   "nbconvert_exporter": "python",
   "pygments_lexer": "ipython3",
   "version": "3.12.10"
  }
 },
 "nbformat": 4,
 "nbformat_minor": 5
}
