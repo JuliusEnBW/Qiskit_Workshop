{
 "cells": [
  {
   "cell_type": "markdown",
   "id": "95ca7e70",
   "metadata": {},
   "source": [
    "# Binder Environment\n",
    "This notebook runs on Binder. Local virtual environment setup is not required."
   ]
  },
  {
   "cell_type": "markdown",
   "id": "94449a3a",
   "metadata": {},
   "source": [
    "# Qiskit Workshop Demo – Fill in the Blanks\n",
    "Welcome to the Qiskit live demo! This notebook is for you to practice quantum programming with Qiskit by filling in the blanks."
   ]
  },
  {
   "cell_type": "code",
   "execution_count": null,
   "id": "7d9e90ed",
   "metadata": {},
   "outputs": [],
   "source": [
    "# Dependencies already installed via requirements.txt\n",
    "# If running locally without installing, uncomment next line:\n",
    "# %pip install qiskit qiskit-aer matplotlib pylatexenc\n",
    "import qiskit\n",
    "import qiskit_aer\n",
    "import matplotlib.pyplot as plt\n",
    "from qiskit import QuantumCircuit\n",
    "from qiskit_aer import Aer\n",
    "print(\"Qiskit imported (Binder environment)\")"
   ]
  },
  {
   "cell_type": "markdown",
   "id": "95907b69",
   "metadata": {},
   "source": [
    "## Step 1: Create a Quantum Circuit\n",
    "Fill in the blanks to create a quantum circuit with 2 qubits and 2 classical bits."
   ]
  },
  {
   "cell_type": "markdown",
   "id": "17a87c44",
   "metadata": {},
   "source": [
    "Bild einfügen um das ganze zu veranschaulichen damit man es einfüllen kann und 2 klassischen bits"
   ]
  },
  {
   "cell_type": "code",
   "execution_count": null,
   "id": "2ad19542",
   "metadata": {},
   "outputs": [],
   "source": [
    "# TODO: Fill in the blanks\n",
    "qc = QuantumCircuit(___, ___)  # (num_qubits, num_clbits)\n",
    "qc.h(___)  # Hadamard gate on qubit ___\n",
    "qc.cx(___, ___)  # CNOT gate with control qubit ___ and target qubit ___\n",
    "qc.measure([___, ___], [___, ___])\n",
    "print(\"Circuit created\")"
   ]
  },
  {
   "cell_type": "markdown",
   "id": "1e76d25d",
   "metadata": {},
   "source": [
    "## Step 2: Visualize the Circuit\n",
    "Display the quantum circuit you just created."
   ]
  },
  {
   "cell_type": "code",
   "execution_count": null,
   "id": "a51c40cf",
   "metadata": {},
   "outputs": [],
   "source": [
    "# TODO: Fill in the blank\n",
    "qc._____('_____')  # Hint: Try 'draw' and 'mpl'"
   ]
  },
  {
   "cell_type": "markdown",
   "id": "cdc6fd59",
   "metadata": {},
   "source": [
    "## Step 3: Simulate the Circuit\n",
    "Run the circuit on a simulator and print the results."
   ]
  },
  {
   "cell_type": "code",
   "execution_count": null,
   "id": "5515eb77",
   "metadata": {},
   "outputs": [],
   "source": [
    "# TODO: Fill in the blanks\n",
    "backend = Aer.get_backend(_____)  # Hint: 'qasm_simulator'\n",
    "job = backend.run(qc, shots=_____)  # Hint: 1000\n",
    "result = job.result()\n",
    "counts = result.get_counts(qc)\n",
    "print(\"Measurement results:\", counts)"
   ]
  },
  {
   "cell_type": "markdown",
   "id": "517f517c",
   "metadata": {},
   "source": [
    "## Step 4: Visualize the Results\n",
    "Plot a histogram of the results."
   ]
  },
  {
   "cell_type": "code",
   "execution_count": null,
   "id": "063cc06d",
   "metadata": {},
   "outputs": [],
   "source": [
    "# TODO: Fill in the blank\n",
    "from qiskit.visualization import plot_histogram\n",
    "plot_histogram(_____)  # Hint: Use the variable from above"
   ]
  }
 ],
 "metadata": {
  "kernelspec": {
   "display_name": ".venv",
   "language": "python",
   "name": "python3"
  },
  "language_info": {
   "codemirror_mode": {
    "name": "ipython",
    "version": 3
   },
   "file_extension": ".py",
   "mimetype": "text/x-python",
   "name": "python",
   "nbconvert_exporter": "python",
   "pygments_lexer": "ipython3",
   "version": "3.12.10"
  }
 },
 "nbformat": 4,
 "nbformat_minor": 5
}
