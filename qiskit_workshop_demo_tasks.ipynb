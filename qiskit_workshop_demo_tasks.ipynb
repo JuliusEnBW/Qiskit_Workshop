{
 "cells": [
  {
   "cell_type": "markdown",
   "id": "fe6eff19",
   "metadata": {},
   "source": [
    "# Data 4 Business 2025 | Quantum Computing Workshop Demo mit Qiskit \n",
    "<img src=\"images/EnBW_Logo_Standard_BlauOrange.png\" alt=\"EnBW Logo\" width=\"220\" />\n",
    "\n",
    "Willkommen! Dieses Notebook führt dich interaktiv durch grundlegende Quantum-Computing-Konzepte:\n",
    "\n",
    "- Bloch-Sphäre & Einzel-Qubit-Rotationen\n",
    "- Messwahrscheinlichkeiten verstehen und beeinflussen\n",
    "- Kontrollierte Gates (CNOT) als Basis für Logik & Vorstufe zu Verschränkung\n",
    "- Quanten Addierer 1 + 1 = 2\n",
    "- ***BONUS*** Deutsch Algorithmus\n",
    "\n",
    "\n",
    "***Viel Spaß*** 🙂\n",
    "\n",
    "🔗 Klick auf das Logo für Allgemeine Infos zu Quantencomputing ***@EnBW*** \n",
    "\n",
    "\n",
    "\n",
    "<a href=\"https://myenbw.sharepoint.com/sites/Quantencomputing\" target=\"_blank\">\n",
    "    <img src=\"images/quantumsitelogo.png\" alt=\"Deutsch Algorithmus - Mehr erfahren\" width=\"350\" />\n",
    "</a>"
   ]
  },
  {
   "cell_type": "markdown",
   "id": "ec9c4388",
   "metadata": {},
   "source": [
    "--------------------------------------------------------------------------------------------------------------------"
   ]
  },
  {
   "cell_type": "markdown",
   "id": "76810f1e",
   "metadata": {},
   "source": [
    "# Überblick: Wichtige Quantum Gates (Qiskit Basis)\n",
    "\n",
    "Unten findest du eine kompakte Übersicht der wichtigsten elementaren Quanten-Gatter, die wir gleich verwenden oder erweitern können. \n",
    "\n",
    "Ein Qubit-Zustand lässt sich als |ψ⟩ = α|0⟩ + β|1⟩ schreiben.\n",
    "\n",
    "<details> <summary><strong>⚠️ Quantum Gatter & Qiskit Befehle ⚠️ (klick)</strong></summary>\n",
    "\n",
    "<table style=\"width: 100%; border-collapse: collapse; margin: 20px 0; background-color: #2d2d2d; color: #ffffff; border-radius: 8px; overflow: hidden;\">\n",
    "<thead>\n",
    "<tr style=\"background-color: #1a1a1a;\">\n",
    "<th style=\"border: 1px solid #444; padding: 12px; text-align: left; width: 15%; color: #ffffff;\">Gate</th>\n",
    "<th style=\"border: 1px solid #444; padding: 12px; text-align: left; width: 25%; color: #ffffff;\">Qiskit Befehl</th>\n",
    "<th style=\"border: 1px solid #444; padding: 12px; text-align: left; width: 60%; color: #ffffff;\">Auswirkung</th>\n",
    "</tr>\n",
    "</thead>\n",
    "<tbody>\n",
    "<tr style=\"background-color: #3a3a3a;\">\n",
    "<td style=\"border: 1px solid #444; padding: 8px; color: #ffffff;\">Pauli-X</td>\n",
    "<td style=\"border: 1px solid #444; padding: 8px; color: #ffd700;\"><code style=\"background-color: #1a1a1a; color: #00ff88; padding: 2px 4px; border-radius: 3px;\">qc.x(q)</code></td>\n",
    "<td style=\"border: 1px solid #444; padding: 8px; color: #ffffff;\">Bit-Flip: |0⟩ ↔ |1⟩ (klassisches NOT)</td>\n",
    "</tr>\n",
    "<tr style=\"background-color: #2d2d2d;\">\n",
    "<td style=\"border: 1px solid #444; padding: 8px; color: #ffffff;\">Pauli-Y</td>\n",
    "<td style=\"border: 1px solid #444; padding: 8px; color: #ffd700;\"><code style=\"background-color: #1a1a1a; color: #00ff88; padding: 2px 4px; border-radius: 3px;\">qc.y(q)</code></td>\n",
    "<td style=\"border: 1px solid #444; padding: 8px; color: #ffffff;\">Kombination aus Flip + Phase (Rotation um Y-Achse)</td>\n",
    "</tr>\n",
    "<tr style=\"background-color: #3a3a3a;\">\n",
    "<td style=\"border: 1px solid #444; padding: 8px; color: #ffffff;\">Pauli-Z</td>\n",
    "<td style=\"border: 1px solid #444; padding: 8px; color: #ffd700;\"><code style=\"background-color: #1a1a1a; color: #00ff88; padding: 2px 4px; border-radius: 3px;\">qc.z(q)</code></td>\n",
    "<td style=\"border: 1px solid #444; padding: 8px; color: #ffffff;\">Phasenflip: |1⟩ erhält ein − Zeichen</td>\n",
    "</tr>\n",
    "<tr style=\"background-color: #2d2d2d;\">\n",
    "<td style=\"border: 1px solid #444; padding: 8px; color: #ffffff;\">Hadamard (H)</td>\n",
    "<td style=\"border: 1px solid #444; padding: 8px; color: #ffd700;\"><code style=\"background-color: #1a1a1a; color: #00ff88; padding: 2px 4px; border-radius: 3px;\">qc.h(q)</code></td>\n",
    "<td style=\"border: 1px solid #444; padding: 8px; color: #ffffff;\">Erzeugt Superposition: |0⟩→(|0⟩+|1⟩)/√2</td>\n",
    "</tr>\n",
    "<tr style=\"background-color: #3a3a3a;\">\n",
    "<td style=\"border: 1px solid #444; padding: 8px; color: #ffffff;\">Phase (S)</td>\n",
    "<td style=\"border: 1px solid #444; padding: 8px; color: #ffd700;\"><code style=\"background-color: #1a1a1a; color: #00ff88; padding: 2px 4px; border-radius: 3px;\">qc.s(q)</code></td>\n",
    "<td style=\"border: 1px solid #444; padding: 8px; color: #ffffff;\">Vierteldrehung um Z (π/2), fügt Phase zu |1⟩ hinzu</td>\n",
    "<tr style=\"background-color: #3a3a3a;\">\n",
    "<td style=\"border: 1px solid #444; padding: 8px; color: #ffffff;\">RX(θ)</td>\n",
    "<td style=\"border: 1px solid #444; padding: 8px; color: #ffd700;\"><code style=\"background-color: #1a1a1a; color: #00ff88; padding: 2px 4px; border-radius: 3px;\">qc.rx(theta, q)</code></td>\n",
    "<td style=\"border: 1px solid #444; padding: 8px; color: #ffffff;\">Feine kontrollierte Drehung um X-Achse</td>\n",
    "</tr>\n",
    "<tr style=\"background-color: #2d2d2d;\">\n",
    "<td style=\"border: 1px solid #444; padding: 8px; color: #ffffff;\">RY(θ)</td>\n",
    "<td style=\"border: 1px solid #444; padding: 8px; color: #ffd700;\"><code style=\"background-color: #1a1a1a; color: #00ff88; padding: 2px 4px; border-radius: 3px;\">qc.ry(theta, q)</code></td>\n",
    "<td style=\"border: 1px solid #444; padding: 8px; color: #ffffff;\">Erzeugt kontrollierte Superposition</td>\n",
    "</tr>\n",
    "<tr style=\"background-color: #3a3a3a;\">\n",
    "<td style=\"border: 1px solid #444; padding: 8px; color: #ffffff;\">RZ(θ)</td>\n",
    "<td style=\"border: 1px solid #444; padding: 8px; color: #ffd700;\"><code style=\"background-color: #1a1a1a; color: #00ff88; padding: 2px 4px; border-radius: 3px;\">qc.rz(theta, q)</code></td>\n",
    "<td style=\"border: 1px solid #444; padding: 8px; color: #ffffff;\">Ändert relative Phase</td>\n",
    "</tr>\n",
    "<tr style=\"background-color: #2d2d2d;\">\n",
    "<td style=\"border: 1px solid #444; padding: 8px; color: #ffffff;\">CX / CNOT</td>\n",
    "<td style=\"border: 1px solid #444; padding: 8px; color: #ffd700;\"><code style=\"background-color: #1a1a1a; color: #00ff88; padding: 2px 4px; border-radius: 3px;\">qc.cx(c,t)</code></td>\n",
    "<td style=\"border: 1px solid #444; padding: 8px; color: #ffffff;\">Erzeugt Verschränkung zwischen Control- und Target-Qubit</td>\n",
    "</tr>\n",
    "<tr style=\"background-color: #3a3a3a;\">\n",
    "<td style=\"border: 1px solid #444; padding: 8px; color: #ffffff;\">CZ</td>\n",
    "<td style=\"border: 1px solid #444; padding: 8px; color: #ffd700;\"><code style=\"background-color: #1a1a1a; color: #00ff88; padding: 2px 4px; border-radius: 3px;\">qc.cz(c,t)</code></td>\n",
    "<td style=\"border: 1px solid #444; padding: 8px; color: #ffffff;\">Phasenverschränkung</td>\n",
    "</tr>\n",
    "<tr style=\"background-color: #2d2d2d;\">\n",
    "<td style=\"border: 1px solid #444; padding: 8px; color: #ffffff;\">SWAP</td>\n",
    "<td style=\"border: 1px solid #444; padding: 8px; color: #ffd700;\"><code style=\"background-color: #1a1a1a; color: #00ff88; padding: 2px 4px; border-radius: 3px;\">qc.swap(q1,q2)</code></td>\n",
    "<td style=\"border: 1px solid #444; padding: 8px; color: #ffffff;\">Datenumlagerung - Vertauscht die Zustände zweier Qubits</td>\n",
    "</tr>\n",
    "<tr style=\"background-color: #3a3a3a;\">\n",
    "<td style=\"border: 1px solid #444; padding: 8px; color: #ffffff;\">CCX (Toffoli)</td>\n",
    "<td style=\"border: 1px solid #444; padding: 8px; color: #ffd700;\"><code style=\"background-color: #1a1a1a; color: #00ff88; padding: 2px 4px; border-radius: 3px;\">qc.ccx(c1,c2,t)</code></td>\n",
    "<td style=\"border: 1px solid #444; padding: 8px; color: #ffffff;\">Universell für klassische Logik (AND-Gate)</td>\n",
    "</tr>\n",
    "<tr style=\"background-color: #2d2d2d;\">\n",
    "<td style=\"border: 1px solid #444; padding: 8px; color: #ffffff;\">Measure</td>\n",
    "<td style=\"border: 1px solid #444; padding: 8px; color: #ffd700;\"><code style=\"background-color: #1a1a1a; color: #00ff88; padding: 2px 4px; border-radius: 3px;\">qc.measure(q,c)</code></td>\n",
    "<td style=\"border: 1px solid #444; padding: 8px; color: #ffffff;\">Liest Ergebnis aus (nicht unitär, kollabiert Superposition)</td>\n",
    "</tr>\n",
    "</tbody>\n",
    "</table>\n",
    "\n",
    "</details>\n",
    "\n",
    "Warum Superposition & Verschränkung? \n",
    "- Superposition (z.B. durch H) verteilt Amplituden über Basiszustände. \n",
    "- Verschränkung (z.B. H + CX) erzeugt Korrelationen, die klassisch nicht erklärt werden können.\n",
    "\n",
    ">Dieses Notebook läuft auf Binder. Eine lokale virtuelle Umgebung ist nicht erforderlich."
   ]
  },
  {
   "cell_type": "markdown",
   "id": "94449a3a",
   "metadata": {},
   "source": [
    "# Qiskit Workshop Demo \n",
    "\n",
    "**Wichtig!** Zu erst diese Zelle ausführen."
   ]
  },
  {
   "cell_type": "code",
   "execution_count": 2,
   "id": "7d9e90ed",
   "metadata": {},
   "outputs": [
    {
     "name": "stdout",
     "output_type": "stream",
     "text": [
      "Qiskit ist jetzt bereit zur Verwendung.\n"
     ]
    }
   ],
   "source": [
    "# Abhängigkeiten sind bereits über requirements.txt installiert\n",
    "# Falls du lokal ohne Installation arbeitest, entferne das Kommentarzeichen vor der nächsten Zeile:\n",
    "# %pip install qiskit qiskit-aer matplotlib pylatexenc\n",
    "import qiskit\n",
    "import qiskit_aer\n",
    "import matplotlib.pyplot as plt\n",
    "from qiskit import QuantumCircuit\n",
    "from qiskit_aer import Aer\n",
    "from qiskit.visualization import plot_histogram  # Für Histogramme weiter unten\n",
    "import math  # Für Winkel / π etc.\n",
    "\n",
    "# Gemeinsamer Simulator (kann in späteren Zellen direkt genutzt werden)\n",
    "backend = Aer.get_backend('qasm_simulator')\n",
    "\n",
    "print(\"Qiskit ist jetzt bereit zur Verwendung.\")"
   ]
  },
  {
   "cell_type": "markdown",
   "id": "e6ac51d5",
   "metadata": {},
   "source": [
    "--------------------------------------------------------------------------------------------------------------------"
   ]
  },
  {
   "cell_type": "markdown",
   "id": "3d3fda0d",
   "metadata": {},
   "source": [
    "# Kapitel 0: Interaktive Bloch-Sphäre – Qubit Zustand entdecken\n",
    "In diesem Einstiegs-Kapitel kannst du mit einem einzelnen Qubit spielen und sehen, wie sich Rotationen auf der Bloch-Sphäre auswirken.\n",
    "\n",
    "**Ziel:**\n",
    "- Verstehen: Ein Qubit-Zustand entspricht einem Punkt auf der Oberfläche der Bloch-Kugel.\n",
    "- Rotationen um X / Y / Z verschieben diesen Punkt.\n",
    "- Messwahrscheinlichkeit für 0/1 hängt von der Projektion auf die Z-Achse ab.\n"
   ]
  },
  {
   "cell_type": "markdown",
   "id": "40711c17",
   "metadata": {},
   "source": [
    "# Interaktive Blochsphere Demo\n"
   ]
  },
  {
   "cell_type": "code",
   "execution_count": 3,
   "id": "410a4895",
   "metadata": {},
   "outputs": [
    {
     "data": {
      "application/vnd.jupyter.widget-view+json": {
       "model_id": "ed6a9e02ab704372b05b378ce0344667",
       "version_major": 2,
       "version_minor": 0
      },
      "text/plain": [
       "interactive(children=(ToggleButtons(description='Gate:', options=('I', 'X', 'Y', 'Z', 'H'), value='I'), Output…"
      ]
     },
     "metadata": {},
     "output_type": "display_data"
    }
   ],
   "source": [
    "from interactive_plots import interactive_bloch_2\n",
    "\n",
    "\n",
    "display(interactive_bloch_2)"
   ]
  },
  {
   "cell_type": "markdown",
   "id": "d3331567",
   "metadata": {},
   "source": [
    "--------------------------------------------------------------------------------------------------------------------"
   ]
  },
  {
   "cell_type": "markdown",
   "id": "acc7ed97",
   "metadata": {},
   "source": [
    "## Aufgabe: Qubit gezielt manipulieren – Bloch-Sphäre\n",
    "\n",
    "Nutze die interaktive Bloch-Sphäre in der nächsten Zelle, um das Qubit gezielt so zu drehen, dass du beim Messen möglichst sicher eine 0 oder eine 1 erhältst.\n",
    "\n",
    "**Deine Aufgabe:**\n",
    "\n",
    "1. Stelle die Regler so ein, dass die Messwahrscheinlichkeit für **1** möglichst nahe bei 100% liegt. \n",
    "\n",
    "2. Probiere auch Zwischenwerte aus (60% eine 1 und 40% eine 0) und beobachte, wie sich die Histogramme und die Position auf der Bloch-Sphäre verändern.\n",
    "\n",
    "\n",
    "<details> <summary><strong>⭐ Bonus Aufgabe (klick)</strong></summary>\n",
    "\n",
    "- Kannst du mit einer Kombination der Regler einen Zustand erzeugen, der bei Messung immer 1 ergibt, aber eine andere Phase hat als der Standard-|1⟩-Zustand?\n",
    "\n",
    "</details>\n",
    "\n",
    "\n",
    "Führe nun die Zelle unterhalb aus.\n",
    "\n",
    "\n"
   ]
  },
  {
   "cell_type": "code",
   "execution_count": 4,
   "id": "29ab46f9",
   "metadata": {},
   "outputs": [
    {
     "data": {
      "application/vnd.jupyter.widget-view+json": {
       "model_id": "38161fcc272a4bf1b29f756a7d78482f",
       "version_major": 2,
       "version_minor": 0
      },
      "text/plain": [
       "VBox(children=(Output(), HBox(children=(FloatSlider(value=0.0, description='X (°)', max=360.0, step=1.0), Floa…"
      ]
     },
     "metadata": {},
     "output_type": "display_data"
    },
    {
     "data": {
      "application/vnd.jupyter.widget-view+json": {
       "model_id": "b326916b97a54646ad03a4008083333a",
       "version_major": 2,
       "version_minor": 0
      },
      "text/plain": [
       "Output()"
      ]
     },
     "metadata": {},
     "output_type": "display_data"
    }
   ],
   "source": [
    "# Interaktive Bloch-Sphäre (optimiert)\n",
    "# Jetzt mit Eingabe in Grad (°) für Rx, Ry, Rz – intern automatische Umrechnung in Radiant\n",
    "\n",
    "from ipywidgets import FloatSlider, IntSlider, ToggleButtons, Button, HBox, VBox, Output\n",
    "from qiskit.visualization import plot_bloch_vector, plot_histogram\n",
    "import numpy as np, math\n",
    "\n",
    "# Simulatoren (nur falls Modus = 'Simulator')\n",
    "backend_state = Aer.get_backend('statevector_simulator')\n",
    "backend_qasm = backend  # bereits vorhandener qasm_simulator\n",
    "\n",
    "# --- Analytische Bloch-Vektor Berechnung für |0> --Rx--> --Ry--> --Rz-->\n",
    "# Startzustand |0>: Bloch (0,0,1)\n",
    "\n",
    "def bloch_after_rotations(rx_rad, ry_rad, rz_rad):  # erwartet Radiant\n",
    "    x, y, z = 0.0, 0.0, 1.0\n",
    "    if abs(rx_rad) > 1e-12:\n",
    "        y, z = y*math.cos(rx_rad) - z*math.sin(rx_rad), y*math.sin(rx_rad) + z*math.cos(rx_rad)\n",
    "    if abs(ry_rad) > 1e-12:\n",
    "        x, z = x*math.cos(ry_rad) + z*math.sin(ry_rad), -x*math.sin(ry_rad) + z*math.cos(ry_rad)\n",
    "    if abs(rz_rad) > 1e-12:\n",
    "        x, y = x*math.cos(rz_rad) - y*math.sin(rz_rad), x*math.sin(rz_rad) + y*math.cos(rz_rad)\n",
    "    return [x, y, z]\n",
    "\n",
    "# Widgets (jetzt in Grad – verständlicher für Einsteiger)\n",
    "# Bereich 0° .. 360° (volle Umdrehung). Schritt 1° für feine Kontrolle.\n",
    "slider_rx = FloatSlider(min=0, max=360, step=1, value=0, description='X (°)')  # kippt zwischen |0> und |1>\n",
    "slider_ry = FloatSlider(min=0, max=360, step=1, value=0, description='Y (°)')  # mischt Wahrsch.\n",
    "slider_rz = FloatSlider(min=0, max=360, step=1, value=0, description='Z (°)')  # ändert Phase\n",
    "slider_shots = IntSlider(min=50, max=2000, step=50, value=500, description='Messungen')\n",
    "mode = ToggleButtons(options=['Schnell','Simulator'], description='Modus')\n",
    "btn_update = Button(description='Aktualisieren', button_style='primary', tooltip='Manuell neu rendern')\n",
    "output = Output()\n",
    "\n",
    "help_text = Output()\n",
    "with help_text:\n",
    "    print(\"Erklärung der Regler (Grad):\")\n",
    "    print(\"- X (°): Rotation um X-Achse. Bewegt Zustand vom Nordpol zum Südpol (ändert Mess-Wahrsch.).\")\n",
    "    print(\"- Y (°): Rotation um Y-Achse. Ebenfalls Änderung der 0/1-Wahrscheinlichkeiten.\")\n",
    "    print(\"- Z (°): Rotation um Z-Achse. Ändert NUR die Phase (sichtbar nach Basiswechsel, z.B. via H).\")\n",
    "    print(\"- Messungen: Anzahl der Wiederholungen zur statistischen Approximation.\")\n",
    "    print(\"- Modus 'Schnell': Formeln ohne echten Simulator. 'Simulator': echter Statevector + Messung.\")\n",
    "    print(\"Hinweis: 180° ≙ π Radiant, 360° ≙ 2π Radiant.\")\n",
    "\n",
    "rendering = False\n",
    "\n",
    "def _plot_percent_hist(prob_dict, title):\n",
    "    \"\"\"Hilfsfunktion: plot_histogram auf 0..1 skalieren + Prozent-Achse.\"\"\"\n",
    "    from matplotlib.ticker import PercentFormatter\n",
    "    fig_or_ax = plot_histogram(prob_dict, title=title)\n",
    "    # plot_histogram kann Figure oder Axes-like zurückgeben\n",
    "    if hasattr(fig_or_ax, 'axes'):\n",
    "        ax = fig_or_ax.axes[0]\n",
    "    else:\n",
    "        ax = fig_or_ax\n",
    "    ax.set_ylim(0,1.0)\n",
    "    ax.set_ylabel('Prozent')\n",
    "    ax.yaxis.set_major_formatter(PercentFormatter(xmax=1, decimals=0))\n",
    "    try:\n",
    "        from IPython.display import display as _display\n",
    "        if hasattr(fig_or_ax, 'axes'):\n",
    "            _display(fig_or_ax)\n",
    "        else:\n",
    "            _display(ax.figure)\n",
    "    except Exception:\n",
    "        pass\n",
    "\n",
    "# NEU: Bloch-Sphäre + Histogramm NEBENEINANDER (seitliche Anordnung)\n",
    "from matplotlib.ticker import PercentFormatter as _PF\n",
    "\n",
    "def _display_bloch_and_hist(bloch_vec, prob_dict, bloch_title, hist_title):\n",
    "    import matplotlib.pyplot as _plt\n",
    "    \n",
    "    # Schließe alle vorherigen Plots um Memory-Leak zu vermeiden\n",
    "    _plt.close('all')\n",
    "    \n",
    "    fig = _plt.figure(figsize=(8,4))\n",
    "    ax_b = fig.add_subplot(1,2,1, projection='3d')\n",
    "    ax_h = fig.add_subplot(1,2,2)\n",
    "    plot_bloch_vector(bloch_vec, title=bloch_title, ax=ax_b)\n",
    "    p0 = prob_dict.get('0', 0.0)\n",
    "    p1 = prob_dict.get('1', 0.0)\n",
    "    bars = ax_h.bar(['0','1'], [p0,p1], color=['#1f77b4','#ff7f0e'])\n",
    "    ax_h.set_title(hist_title)\n",
    "    ax_h.set_ylim(0,1.0)\n",
    "    ax_h.set_ylabel('Prozent')\n",
    "    ax_h.yaxis.set_major_formatter(_PF(xmax=1, decimals=0))\n",
    "    for rect,val in zip(bars,[p0,p1]):\n",
    "        ax_h.text(rect.get_x()+rect.get_width()/2, val+0.02, f\"{val*100:.0f}%\", ha='center', va='bottom', fontsize=9)\n",
    "    try:\n",
    "        fig.tight_layout()\n",
    "    except Exception:\n",
    "        pass\n",
    "    from IPython.display import display as _display\n",
    "    _display(fig)\n",
    "    \n",
    "    # Schließe die Figur nach dem Display um weitere Akkumulation zu vermeiden\n",
    "    _plt.close(fig)\n",
    "\n",
    "def render():\n",
    "    global rendering\n",
    "    if rendering:  # einfache Reentrancy-Guard\n",
    "        return\n",
    "    rendering = True\n",
    "    with output:\n",
    "        output.clear_output(wait=True)\n",
    "        # Werte in Grad einlesen\n",
    "        rx_deg, ry_deg, rz_deg, shots = slider_rx.value, slider_ry.value, slider_rz.value, slider_shots.value\n",
    "        # Umrechnung in Radiant für Berechnung / Qiskit Gates\n",
    "        rx = math.radians(rx_deg)\n",
    "        ry = math.radians(ry_deg)\n",
    "        rz = math.radians(rz_deg)\n",
    "        if mode.value == 'Schnell':\n",
    "            bloch = bloch_after_rotations(rx, ry, rz)\n",
    "            z = bloch[2]\n",
    "            p0 = (1+z)/2\n",
    "            p1 = 1-p0\n",
    "            # Wahrscheinlichkeiten direkt (nicht erst Counts → dann normalisieren)\n",
    "            probs = {'0': p0, '1': p1}\n",
    "            print(f\"Analytisch | Rx={rx_deg:.0f}° Ry={ry_deg:.0f}° Rz={rz_deg:.0f}° -> p(0)≈{p0:.3f} p(1)≈{p1:.3f}\")\n",
    "            qc = QuantumCircuit(1,1)\n",
    "            if rx: qc.rx(rx,0)\n",
    "            if ry: qc.ry(ry,0)\n",
    "            if rz: qc.rz(rz,0)\n",
    "            try:\n",
    "                # Schließe vorherige Plots\n",
    "                import matplotlib.pyplot as plt\n",
    "                plt.close('all')\n",
    "                display(qc.draw('mpl'))\n",
    "            except Exception:\n",
    "                print(qc.draw())\n",
    "            _display_bloch_and_hist(bloch, probs, 'Bloch-Sphäre (analytisch)', 'Messung (approximiert, %)')\n",
    "        else:\n",
    "            qc = QuantumCircuit(1,1)\n",
    "            if rx: qc.rx(rx,0)\n",
    "            if ry: qc.ry(ry,0)\n",
    "            if rz: qc.rz(rz,0)\n",
    "            sv = backend_state.run(qc).result().get_statevector(qc)\n",
    "            a, b = sv[0], sv[1]\n",
    "            x = 2 * np.real(np.conjugate(a) * b)\n",
    "            y = 2 * np.imag(np.conjugate(a) * b)\n",
    "            z = np.abs(a)**2 - np.abs(b)**2\n",
    "            bloch = [x,y,z]\n",
    "            qc_m = qc.copy(); qc_m.measure(0,0)\n",
    "            counts = backend_qasm.run(qc_m, shots=shots).result().get_counts(qc_m)\n",
    "            # In Wahrscheinlichkeiten normalisieren\n",
    "            total = sum(counts.values()) or 1\n",
    "            probs = {k: v/total for k,v in counts.items()}\n",
    "            print(f\"Simulator | Rx={rx_deg:.0f}° Ry={ry_deg:.0f}° Rz={rz_deg:.0f}° -> Prozent: \" + \n",
    "                  \", \".join(f\"{b}={(p*100):.1f}%\" for b,p in sorted(probs.items())))\n",
    "            try:\n",
    "                # Schließe vorherige Plots\n",
    "                import matplotlib.pyplot as plt\n",
    "                plt.close('all')\n",
    "                display(qc.draw('mpl'))\n",
    "            except Exception:\n",
    "                print(qc.draw())\n",
    "            _display_bloch_and_hist(bloch, probs, 'Bloch-Sphäre (Simulator)', 'Messung (Simulator, %)')\n",
    "    rendering = False\n",
    "\n",
    "# Auto-Update bei Slider-Änderungen\n",
    "for w in (slider_rx, slider_ry, slider_rz, slider_shots, mode):\n",
    "    w.observe(lambda change: render() if change['name']=='value' else None, names='value')\n",
    "btn_update.on_click(lambda _: render())\n",
    "\n",
    "controls = VBox([\n",
    "    help_text,\n",
    "    HBox([slider_rx, slider_ry, slider_rz]),\n",
    "    HBox([slider_shots, mode, btn_update])\n",
    "])\n",
    "\n",
    "display(controls)\n",
    "display(output)  # wichtig: Output anzeigen\n",
    "render()  # erste Ausgabe"
   ]
  },
  {
   "cell_type": "markdown",
   "id": "67830b17",
   "metadata": {},
   "source": [
    "--------------------------------------------------------------------------------------------------------------------"
   ]
  },
  {
   "cell_type": "markdown",
   "id": "95907b69",
   "metadata": {},
   "source": [
    "## Kapitel 1: Einfacher Einzel-Qubit-Circuit – Wie oft messen wir 0 oder 1?\n",
    "Wir erstellen einen Circuit mit 1 Qubit und 1 klassischem Bit. Ein Hadamard-Gatter `H` bringt das Qubit in eine Superposition, sodass bei vielen Messungen ungefähr gleich oft `0` und `1` auftreten. "
   ]
  },
  {
   "cell_type": "markdown",
   "id": "a28d19d9",
   "metadata": {},
   "source": [
    "**Aufgabe:** Füge das Hadamard-Gatter ein und sieh dir den output an. \n",
    "\n",
    "Wenn du das Gatter eingefügt hast makiere die Zelle und drücke auf das Play/Start Symbol oben im Menüband um die Zelle wie auch bisher auszführen.\n",
    "\n",
    "> Die Schaltung wird für jedes Circuit dargestellt je nachdem welche Gatter du einfügst. \n",
    "\n",
    "\n",
    "TIP Tabelle oben!!!!!!!!!!!!!!!1"
   ]
  },
  {
   "cell_type": "markdown",
   "id": "248de1c1",
   "metadata": {},
   "source": [
    "Schaltungslösung:\n",
    "\n",
    "![Kapitel 1 Schaltung](images/kapitel1_schaltung.png)"
   ]
  },
  {
   "cell_type": "code",
   "execution_count": 6,
   "id": "88836a99",
   "metadata": {},
   "outputs": [
    {
     "data": {
      "image/png": "[encoded data removed]",
      "text/plain": [
       "<Figure size 185.453x200.667 with 1 Axes>"
      ]
     },
     "metadata": {},
     "output_type": "display_data"
    },
    {
     "data": {
      "image/png": "[encoded data removed]",
      "text/plain": [
       "<Figure size 640x480 with 1 Axes>"
      ]
     },
     "metadata": {},
     "output_type": "display_data"
    }
   ],
   "source": [
    "# Einfaches Beispiel: 1 Qubit, Hadamard, Messung (gekürzt)\n",
    "# Du änderst nur shots, den Circuit-Namen und fügst dein Hadamard + Messung ein.\n",
    "from workshop_utils import run_single_qubit_demo\n",
    "\n",
    "shots = 100  # Anzahl der Wiederholungen\n",
    "\n",
    "qc_simple = QuantumCircuit(1,1)  # 1 Qubit, 1 klassisches Bit\n",
    "\n",
    "\n",
    "# Füge hier das Hadamard-Gatter hinzu:\n",
    "\n",
    "\n",
    "# Messung (nicht ändern)\n",
    "qc_simple.measure(0,0)\n",
    "\n",
    "# Ausführen & Plot (alles weitere passiert in workshop_utils.py)\n",
    "counts_simple, probs_simple = run_single_qubit_demo(qc_simple, shots, backend)"
   ]
  },
  {
   "cell_type": "markdown",
   "id": "d243f3db",
   "metadata": {},
   "source": [
    "--------------------------------------------------------------------------------------------------------------------"
   ]
  },
  {
   "cell_type": "markdown",
   "id": "6fd69dc0",
   "metadata": {},
   "source": [
    "## Kapitel 2: Wie erzwinge oder beeinflusse ich Messergebnisse?\n",
    "Wir schauen uns 2 kleine Varianten an (alles noch 1 Qubit):\n",
    "\n",
    "Der Grundzustand wird immer mit 0 initialisiert."
   ]
  },
  {
   "cell_type": "markdown",
   "id": "62f2ec82",
   "metadata": {},
   "source": [
    "### Variante 1: Immer 1 erzwingen mit X-Gate\n",
    "Wir setzen das Qubit per X-Gatter direkt in den Zustand |1>, damit die Messung (fast) immer 1 liefert.\n",
    "\n",
    "Schaltungslösung:\n",
    "\n",
    "![Kapitel 2 Schaltung](images/kpaitel2_schaltung.png)"
   ]
  },
  {
   "cell_type": "markdown",
   "id": "4d220b39",
   "metadata": {},
   "source": [
    "**Aufgabe:** Füge das (NOT) X-Gatter ein und trage in das Quantum Circuit ein Qubit und ein Klassiches Bit ein um den Circuit zu initialisieren.\n",
    "\n",
    "\n",
    "Wenn du das Gatter eingefügt hasst und der Circuit initialisiert wurde makiere die Zelle und drücke auf das Play/Start Symbol oben im Menüband um die Zelle wie auch bisher auszführen.\n",
    "\n",
    "> Die Schaltung wird für jedes Circuit dargestellt je nachdem welche Gatter du einfügst."
   ]
  },
  {
   "cell_type": "code",
   "execution_count": 7,
   "id": "193fc553",
   "metadata": {},
   "outputs": [
    {
     "data": {
      "image/png": "[encoded data removed]",
      "text/plain": [
       "<Figure size 185.453x200.667 with 1 Axes>"
      ]
     },
     "metadata": {},
     "output_type": "display_data"
    },
    {
     "data": {
      "image/png": "[encoded data removed]",
      "text/plain": [
       "<Figure size 640x480 with 1 Axes>"
      ]
     },
     "metadata": {},
     "output_type": "display_data"
    }
   ],
   "source": [
    "# Variante 1: Immer 1 messen (gekürzt)\n",
    "# Ergänze NUR: QuantumCircuit Initialisierung + X-Gatter vor der Messung.\n",
    "from variant_utils import run_variant1_demo, QuantumCircuit\n",
    "\n",
    "shots = 1000\n",
    "\n",
    "# Circuit mit 1 Qubit & 1 klassischem Bit anlegen:\n",
    "qc_one = \n",
    "\n",
    "# Füge hier das X-Gatter hinzu, damit der Zustand |1> entsteht:\n",
    "\n",
    "\n",
    "qc_one.measure(0,0)\n",
    "\n",
    "# Ausführen & Plot (Rest in variant_utils/workshop_utils)\n",
    "counts_one, probs_one = run_variant1_demo(qc_one, shots, backend)"
   ]
  },
  {
   "cell_type": "markdown",
   "id": "7955b5c2",
   "metadata": {},
   "source": [
    "--------------------------------------------------------------------------------------------------------------------"
   ]
  },
  {
   "cell_type": "markdown",
   "id": "bcfb9b05",
   "metadata": {},
   "source": [
    "### Variante 2: Wahrscheinlichkeiten fein einstellen mit RY(θ)\n",
    "Mit einer Rotation um die Y-Achse stellen wir kontinuierlich ein, wie oft 0 oder 1 fällt.\n",
    "\n",
    "\n",
    "Schaltungslösung:\n",
    "\n",
    "![Kapitel 2 Schaltung (Version 2)](images/kapitel2_schaltungv2.png)"
   ]
  },
  {
   "cell_type": "markdown",
   "id": "c586366f",
   "metadata": {},
   "source": [
    "**Aufgabe:** Füge das RY-Gatter ein und trage in das Quantum Circuit ein Qubit und ein Klassiches Bit ein um das Circuit zu initialisieren. \n",
    "\n",
    "- Wenn du das Gatter eingefügt hasst und der Circuit initialisiert wurde makiere die Zelle und führe die Zelle aus.\n",
    "\n",
    "- Wenn du Hilfe brauchst um das richtige Gatter mit den jeweiligen Parametern zu finden scrolle hoch und schau dir die Gatter Tabelle an für RY.\n",
    "\n",
    "\n",
    "<details> <summary><strong>⭐ Bonus Aufgabe (klick)</strong></summary>\n",
    "\n",
    "Versuche den Winkel Theta (θ) so zu ändern das wir entweder 0 oder 1 als Ergebniss bekommen.\n",
    "\n",
    "</details>"
   ]
  },
  {
   "cell_type": "code",
   "execution_count": null,
   "id": "7d967524",
   "metadata": {},
   "outputs": [],
   "source": [
    "# Variante 2: Wahrscheinlichkeiten steuern (gekürzt)\n",
    "# Ergänze: QuantumCircuit + RY-Gatter mit gewünschtem Winkel (θ).\n",
    "try:\n",
    "    from variant_utils import run_variant2_demo, QuantumCircuit\n",
    "except (ImportError, AttributeError):\n",
    "    import importlib, variant_utils\n",
    "    importlib.reload(variant_utils)\n",
    "    from variant_utils import run_variant2_demo, QuantumCircuit\n",
    "import math\n",
    "\n",
    "shots = 500\n",
    "theta_deg = 60  # Winkel in Grad (änderbar)\n",
    "theta_rad = math.radians(theta_deg)\n",
    "\n",
    "# Circuit initialisieren\n",
    "qc_bias = \n",
    "\n",
    "# RY-Gatter hier hinzufügen, um die Wahrscheinlichkeit für '1' zu beeinflussen:\n",
    "\n",
    "\n",
    "qc_bias.measure(0,0)\n",
    "\n",
    "counts_bias, probs_bias = run_variant2_demo(qc_bias, shots, backend, theta_deg=theta_deg)"
   ]
  },
  {
   "cell_type": "markdown",
   "id": "4e86f261",
   "metadata": {},
   "source": [
    "--------------------------------------------------------------------------------------------------------------------"
   ]
  },
  {
   "cell_type": "markdown",
   "id": "472fc0c9",
   "metadata": {},
   "source": [
    "## Kapitel 3: CNOT Gatter (CX) einfach erklärt \n",
    "Das CNOT (CX) funktioniert mit zwei Qubits:\n",
    "- Kontroll Qubit (\"Control\").\n",
    "- Ziel Qubit (\"Target\").\n",
    "\n",
    "**Regel:** Ist die Kontrolle = 1, dann mache ein X (Flip) auf dem Ziel. Ist die Kontrolle = 0, tue nichts.\n",
    "\n",
    "Man kann es wie einen \"bedingten Lichtschalter\" sehen: Control = 1 schaltet den Zustand des Ziel-Qubits um.\n",
    "\n",
    "\n",
    "\n",
    ">**Aufgabe:** Fülle die '??' aus um die Wahrheitstablle zu vervollständigen. Wenn du nicht weiter weißt lass die untere Code Zelle laufen und schaue dir die Ergebnisse an die wir in den 4 Varianten bekommen. \n",
    "\n",
    ">Mit einem doppel Klick kannst du die Tabelle bearbeiten und wenn du sie speichern möchtest führe die Zelle mit dem Play button aus.\n",
    "\n",
    "### Wahrheitstabelle\n",
    "| Control | Target (vorher) | Target (nachher) | Ausgabe (Control + Target)                  | Was passiert? |\n",
    "|---------|-----------------|------------------|---------------------------|---------------|\n",
    "| 0       | 0               | 0                | 00                        | Nichts        |\n",
    "| 0       | 1               | ?                | ??                        | ?     |\n",
    "| 1       | 0               | ?                | ??                        | Flip          |\n",
    "| 1       | 1               | 0                | ??                        | Flip          |\n",
    "\n",
    "\n",
    "\n",
    "\n",
    "Gleich unten erstellen wir jede der vier Kombinationen und prüfen, was rauskommt. Du musst in diesem Beispiel ***keinen*** Code einfügen. \n"
   ]
  },
  {
   "cell_type": "code",
   "execution_count": 8,
   "id": "f0e6bb40",
   "metadata": {},
   "outputs": [
    {
     "name": "stdout",
     "output_type": "stream",
     "text": [
      "\n",
      "Circuit für Eingang 00:\n"
     ]
    },
    {
     "data": {
      "image/png": "[encoded data removed]",
      "text/plain": [
       "<Figure size 370.906x284.278 with 1 Axes>"
      ]
     },
     "metadata": {},
     "output_type": "display_data"
    },
    {
     "name": "stdout",
     "output_type": "stream",
     "text": [
      "Eingang 00 -> Ausgabe Counts: {'00': 256}\n",
      "\n",
      "Circuit für Eingang 01:\n"
     ]
    },
    {
     "data": {
      "image/png": "[encoded data removed]",
      "text/plain": [
       "<Figure size 454.517x284.278 with 1 Axes>"
      ]
     },
     "metadata": {},
     "output_type": "display_data"
    },
    {
     "name": "stdout",
     "output_type": "stream",
     "text": [
      "Eingang 01 -> Ausgabe Counts: {'10': 256}\n",
      "\n",
      "Circuit für Eingang 10:\n"
     ]
    },
    {
     "data": {
      "image/png": "[encoded data removed]",
      "text/plain": [
       "<Figure size 454.517x284.278 with 1 Axes>"
      ]
     },
     "metadata": {},
     "output_type": "display_data"
    },
    {
     "name": "stdout",
     "output_type": "stream",
     "text": [
      "Eingang 10 -> Ausgabe Counts: {'11': 256}\n",
      "\n",
      "Circuit für Eingang 11:\n"
     ]
    },
    {
     "data": {
      "image/png": "[encoded data removed]",
      "text/plain": [
       "<Figure size 454.517x284.278 with 1 Axes>"
      ]
     },
     "metadata": {},
     "output_type": "display_data"
    },
    {
     "name": "stdout",
     "output_type": "stream",
     "text": [
      "Eingang 11 -> Ausgabe Counts: {'01': 256}\n",
      "\n",
      "Zusammenfassung (dominierender Output):\n",
      "00 -> 00\n",
      "01 -> 10\n",
      "10 -> 11\n",
      "11 -> 01\n"
     ]
    }
   ],
   "source": [
    "# CNOT Wahrheitstabelle per Simulation\n",
    "# Wir erzeugen die vier Basiszustände |00>, |01>, |10>, |11>, wenden CX an und messen.\n",
    "\n",
    "\n",
    "shots = 256\n",
    "kombinationen = {\n",
    "    \"00\": [],\n",
    "    \"01\": [(1, 'x')],        # Ziel (unten) auf 1 setzen\n",
    "    \"10\": [(0, 'x')],        # Control (oben) auf 1 setzen\n",
    "    \"11\": [(0, 'x'), (1, 'x')]  # Beide auf 1 setzen\n",
    "}\n",
    "\n",
    "results = {}\n",
    "\n",
    "for name, ops in kombinationen.items():\n",
    "    qc = QuantumCircuit(2,2)\n",
    "    # Vorbereitung\n",
    "    for qubit, art in ops:\n",
    "        if art == 'x':\n",
    "            qc.x(qubit)\n",
    "    # CX: Kontrolle = Qubit 0, Ziel = Qubit 1\n",
    "    qc.cx(0,1)\n",
    "    qc.measure([0,1],[0,1])\n",
    "\n",
    "    # Circuit zeichnen (so sieht das Gatter in dieser Eingabe aus)\n",
    "    print(f\"\\nCircuit für Eingang {name}:\")\n",
    "    try:\n",
    "        display(qc.draw('mpl'))\n",
    "    except Exception:\n",
    "        print(qc.draw())\n",
    "\n",
    "    counts = backend.run(qc, shots=shots).result().get_counts(qc)\n",
    "    results[name] = counts\n",
    "    print(f\"Eingang {name} -> Ausgabe Counts: {counts}\")\n",
    "\n",
    "# Zusammenfassung in einer kleinen Tabelle drucken\n",
    "print(\"\\nZusammenfassung (dominierender Output):\")\n",
    "for eingang, counts in results.items():\n",
    "    # größten Key finden\n",
    "    dominant = max(counts.items(), key=lambda kv: kv[1])[0]\n",
    "    print(f\"{eingang} -> {dominant}\")"
   ]
  },
  {
   "cell_type": "markdown",
   "id": "c01c6e13",
   "metadata": {},
   "source": [
    "--------------------------------------------------------------------------------------------------------------------"
   ]
  },
  {
   "cell_type": "markdown",
   "id": "80cc665b",
   "metadata": {},
   "source": [
    "### Kapitel 4: Mini Quanten-Taschenrechner\n",
    "\n",
    "Der Mini Quanten-Taschenrechner addiert zwei klassische Eingaben `a` und `b` (je 0 oder 1) und liefert die Summe.\n",
    "\n",
    "\n",
    "***Aufgabe:*** \n",
    "\n",
    "Erstelle einen Taschenrechner, der addieren kann: x1 + x2 = y1 & y2 (binäre Darstellung)\n",
    "Klassisch kann dies mit folgenden Gattern durchgeführt werden:\n",
    "\n",
    "<img src=\"images/gatterclassic.png\" alt=\"classigatter\" width=\"350\" />\n"
   ]
  },
  {
   "cell_type": "markdown",
   "id": "98a4dd5e",
   "metadata": {},
   "source": [
    "<details> <summary><strong>❇️ Quanten Gatter die auch im Klassischen Sinne äquivalent sind (klicken)</strong></summary>\n",
    "\n",
    "\n",
    "***Quanten Gatter*** \n",
    "\n",
    "<img src=\"images/quanten_gatter.png\" alt=\"Quanten-Gatter Übersicht\" width=\"450\" />\n",
    "\n",
    "</details>"
   ]
  },
  {
   "cell_type": "markdown",
   "id": "706d3a0f",
   "metadata": {},
   "source": [
    "<details> <summary><strong>👉 Weitere Hilfe (klicken)</strong></summary>\n",
    "\n",
    "Ablauf:\n",
    "\n",
    "    In der Quantenvariante nutzen wir 3 Qubits:\n",
    "    - `q0` = a  \n",
    "    - `q1` = b (wird nachher zur SUM umgewandelt)  \n",
    "    - `q2` = startet in |0⟩ und speichert später den Carry  \n",
    "\n",
    "    1. Setze Eingaben: Falls `a=1` dann `x(0)`, falls `b=1` dann `x(1)`.\n",
    "    2. `ccx(q0, q1, q2)` schreibt `a AND b` in `q2` (Carry).\n",
    "    3. `cx(q0, q1)` macht aus `q1` nun `a XOR b` (Sum).\n",
    "    4. Messe `q1` (Sum) und `q2` (Carry).\n",
    "\n",
    "    Warum das funktioniert:\n",
    "    - CNOT implementiert XOR (Ziel wechselt nur wenn Control=1).\n",
    "    - Toffoli (CCX) implementiert AND (Ziel wird nur 1 wenn beide Controls 1 sind).\n",
    "    - Damit haben wir die klassische Logik exakt nachgebildet.\n",
    "      (Siehe Wahrheitstabelle aus dem vorherigen Kapitel.)\n",
    "\n",
    "    Bitstring-Hinweis:\n",
    "    - Beispiel: `10` bedeutet CARRY=1, SUM=0 ⇒ Ergebnis 2 (1+1).\n",
    "\n",
    "    Kernidee:\n",
    "    - Quantengatter erlauben parallele Zustände; hier nutzen wir sie rein klassisch\n",
    "      (keine Superposition nötig), aber dieselben Gatter sind Bausteine größerer\n",
    "      arithmetischer Quanten-Schaltungen.\n",
    "\n",
    "</details>"
   ]
  },
  {
   "cell_type": "markdown",
   "id": "4366bb0a",
   "metadata": {},
   "source": [
    "***Aufgabe:*** Kapitel ***4*** \n",
    ">Probieren zu erst das Problem selber zu Lösen bevor du dir die Lösung anschaust. Trage nun den Code in die untere Zelle ein."
   ]
  },
  {
   "cell_type": "code",
   "execution_count": 9,
   "id": "5a76744f",
   "metadata": {},
   "outputs": [
    {
     "ename": "SyntaxError",
     "evalue": "invalid syntax (1041813428.py, line 12)",
     "output_type": "error",
     "traceback": [
      "\u001b[1;36m  Cell \u001b[1;32mIn[9], line 12\u001b[1;36m\u001b[0m\n\u001b[1;33m    qc =  # 3 Qubits und 2 Klassiche bits\u001b[0m\n\u001b[1;37m          ^\u001b[0m\n\u001b[1;31mSyntaxError\u001b[0m\u001b[1;31m:\u001b[0m invalid syntax\n"
     ]
    }
   ],
   "source": [
    "from qiskit import QuantumCircuit, transpile\n",
    "from qiskit_aer import AerSimulator\n",
    "from qiskit.visualization import plot_histogram\n",
    "\n",
    "#Eingaben\n",
    "a = 1\n",
    "b = 1\n",
    "\n",
    "#Vervollständige den code um einen Quanten addierer zu bauen.\n",
    "\n",
    "# Quantencircuit Initialiseren\n",
    "qc =  # 3 Qubits und 2 Klassiche bits\n",
    "\n",
    "#Unter diesem Kommentar schreibst du die Rechenoperatoren hin.\n",
    "\n",
    "\n",
    "\n",
    "backend = AerSimulator()\n",
    "counts = backend.run(transpile(qc, backend), shots=512).result().get_counts()\n",
    "display(qc.draw('mpl'))\n",
    "plot_histogram(counts)"
   ]
  },
  {
   "cell_type": "markdown",
   "id": "73e29d94",
   "metadata": {},
   "source": [
    "***Lösung: Kapitel 4*** Wenn du nicht weiter kommst zeigen wir dir auch die Lösung.\n",
    "<details> <summary><strong>✅ Lösung anzeigen (klicken)</strong></summary>\n",
    "\n",
    "qc = QuantumCircuit(3, 2)\n",
    "\n",
    "qc.x(0)\n",
    "\n",
    "qc.x(1)\n",
    "\n",
    "qc.ccx(0,1,2)\n",
    "\n",
    "qc.cx(0,1)\n",
    "\n",
    "qc.measure(1,0)\n",
    "\n",
    "qc.measure(2,1)\n",
    "\n",
    "</details>"
   ]
  },
  {
   "cell_type": "markdown",
   "id": "87733b05",
   "metadata": {},
   "source": [
    "--------------------------------------------------------------------------------------------------------------------"
   ]
  },
  {
   "cell_type": "markdown",
   "id": "77c2bd4e",
   "metadata": {},
   "source": [
    "### Kapitel: 5 - Baue eigenständig einen Algorithmus \n",
    "\n",
    "***BONUS: Deutsch Algorithmus – Erkenne mit einer Abfrage ob eine Funktion konstant oder balanciert ist***\n",
    "\n",
    "Der (klassische) Vergleich: Um sicher festzustellen, ob eine Boolesche Funktion f:{0,1}→{0,1} konstant (immer 0 oder immer 1) oder balanciert (einmal 0, einmal 1) ist, müsstest du im Worst Case beide Eingaben testen (f(0) und f(1)).\n",
    "\n",
    "Der Deutsch Algorithmus schafft das mit nur EINER quantenmechanischen Orakel-Abfrage.\n",
    "\n",
    "***Ziel:*** Implementiere selbst einen Circuit, der nach einer einzelnen Anwendung des Orakels entscheidet: \"konstant\" oder \"balanciert\".\n",
    "\n",
    "\n",
    "\n",
    "LINK DEUTSCH ALGO WISSENDATENBANK!!!!!!!!!!!!!!!!!!!!!\n",
    "\n",
    "<img src=\"images/deutschalgo.png\" alt=\"Quanten-Gatter Übersicht\" width=\"750\" />\n",
    "\n",
    ">Hinweise :\n",
    "- Hadamard: qc.h(qubit)\n",
    "- X für konstante-1-Variante im Orakel: Ziel-Qubit flippen (kontroll-unabhängig) oder separater Ansatz.\n",
    "- Für f(x)=x kannst du eine CNOT von x→Ziel benutzen.\n",
    "- Achte auf die Reihenfolge der Messung: Nur erstes Qubit entscheidet.\n",
    "\n",
    "\n"
   ]
  },
  {
   "cell_type": "code",
   "execution_count": null,
   "id": "531a22f0",
   "metadata": {},
   "outputs": [],
   "source": [
    "# Imports für den Deutsch-Algorithmus\n",
    "# (Minimal und neutral – eigentliche Orakel- und Algorithmus-Implementierung bleibt deine Aufgabe.)\n",
    "from qiskit import QuantumCircuit, transpile\n",
    "from qiskit_aer import Aer\n",
    "from qiskit.visualization import plot_histogram\n",
    "\n",
    "\n",
    "\n",
    "\n"
   ]
  }
 ],
 "metadata": {
  "kernelspec": {
   "display_name": "Python 3",
   "language": "python",
   "name": "python3"
  },
  "language_info": {
   "codemirror_mode": {
    "name": "ipython",
    "version": 3
   },
   "file_extension": ".py",
   "mimetype": "text/x-python",
   "name": "python",
   "nbconvert_exporter": "python",
   "pygments_lexer": "ipython3",
   "version": "3.12.10"
  }
 },
 "nbformat": 4,
 "nbformat_minor": 5
}
